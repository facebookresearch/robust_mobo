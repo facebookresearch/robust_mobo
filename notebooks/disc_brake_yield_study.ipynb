{
 "cells": [
  {
   "cell_type": "code",
   "metadata": {
    "collapsed": true,
    "pycharm": {
     "name": "#%%\n"
    }
   },
   "source": [
    "import os\n",
    "import torch\n",
    "\n",
    "import matplotlib.pyplot as plt\n",
    "from matplotlib import rc\n",
    "import matplotlib\n",
    "%matplotlib\n"
   ],
   "execution_count": 1,
   "outputs": [
    {
     "name": "stdout",
     "output_type": "stream",
     "text": [
      "Using matplotlib backend: MacOSX\n"
     ]
    }
   ]
  },
  {
   "cell_type": "markdown",
   "source": [
    "### Here is the global MVaR PF"
   ],
   "metadata": {
    "collapsed": false,
    "pycharm": {
     "name": "#%% md\n"
    }
   }
  },
  {
   "cell_type": "code",
   "execution_count": 2,
   "outputs": [],
   "source": [
    "fig, ax = plt.subplots(1, figsize=(5, 4))\n",
    "all_mvars = torch.load(os.path.join(\"max_hvs\", \"disc_brake_all_mvars.pt\"))\n",
    "ax.scatter(all_mvars[:, 0], all_mvars[:, 1])\n",
    "ax.set_title(\"Disc Brake MVaR PF\")\n",
    "fig.tight_layout()"
   ],
   "metadata": {
    "collapsed": false,
    "pycharm": {
     "name": "#%%\n"
    }
   }
  },
  {
   "cell_type": "markdown",
   "source": [
    "### Let's draw 100 points from the domain and see how things look for those."
   ],
   "metadata": {
    "collapsed": false,
    "pycharm": {
     "name": "#%% md\n"
    }
   }
  },
  {
   "cell_type": "code",
   "execution_count": 3,
   "outputs": [],
   "source": [
    "import json\n",
    "from approximate_max_hv_run import construct_mvar_hv, exp_dir\n",
    "\n",
    "config_path = os.path.join(exp_dir, \"disc_brake\", \"config.json\")\n",
    "with open(config_path, \"r\") as f:\n",
    "    config = json.load(f)\n",
    "config.pop(\"device\")\n",
    "mvar_hv = construct_mvar_hv(**config, use_cpu=True)"
   ],
   "metadata": {
    "collapsed": false,
    "pycharm": {
     "name": "#%%\n"
    }
   }
  },
  {
   "cell_type": "code",
   "execution_count": 4,
   "outputs": [],
   "source": [
    "from botorch.utils.sampling import draw_sobol_samples\n",
    "\n",
    "standard_bounds = torch.ones(2,4)\n",
    "standard_bounds[0] = 0\n",
    "\n",
    "X_test = draw_sobol_samples(bounds=standard_bounds, n=100, q=1).squeeze(-2)\n"
   ],
   "metadata": {
    "collapsed": false,
    "pycharm": {
     "name": "#%%\n"
    }
   }
  },
  {
   "cell_type": "code",
   "execution_count": 5,
   "outputs": [],
   "source": [
    "# Get the corresponding MVaR set.\n",
    "perturbed_X = mvar_hv.perturbation(X_test)\n",
    "perturbed_Y = mvar_hv.eval_problem(perturbed_X)\n",
    "\n",
    "infeas = (perturbed_Y[..., -mvar_hv.num_constraints :] < 0).any(dim=-1)\n",
    "perturbed_Y = perturbed_Y[..., : -mvar_hv.num_constraints]\n",
    "perturbed_Y[infeas] = mvar_hv.hv.ref_point\n",
    "\n",
    "mvar = (\n",
    "    mvar_hv.mvar(\n",
    "        perturbed_Y.cpu(),\n",
    "        use_cpu=True,\n",
    "    )\n",
    "    .view(-1, perturbed_Y.shape[-1])\n",
    "    .to(X_test)\n",
    ")\n",
    "\n",
    "# Nominal evaluations\n",
    "\n",
    "Y = mvar_hv.eval_problem(X_test)\n",
    "infeas = (Y[..., -mvar_hv.num_constraints :] < 0).any(dim=-1)\n",
    "Y = Y[..., : -mvar_hv.num_constraints]\n",
    "Y[infeas] = mvar_hv.hv.ref_point"
   ],
   "metadata": {
    "collapsed": false,
    "pycharm": {
     "name": "#%%\n"
    }
   }
  },
  {
   "cell_type": "code",
   "execution_count": 6,
   "outputs": [
    {
     "data": {
      "text/plain": "<matplotlib.collections.PathCollection at 0x17bca4340>"
     },
     "execution_count": 6,
     "metadata": {},
     "output_type": "execute_result"
    }
   ],
   "source": [
    "plt.scatter(Y[:, 0], Y[:, 1])\n",
    "plt.scatter(mvar[:, 0], mvar[:, 1])"
   ],
   "metadata": {
    "collapsed": false,
    "pycharm": {
     "name": "#%%\n"
    }
   }
  },
  {
   "cell_type": "code",
   "execution_count": 7,
   "outputs": [],
   "source": [
    "mvar_per_X = mvar.shape[0] / 100"
   ],
   "metadata": {
    "collapsed": false,
    "pycharm": {
     "name": "#%%\n"
    }
   }
  },
  {
   "cell_type": "code",
   "execution_count": 8,
   "outputs": [],
   "source": [
    "from botorch.utils.multi_objective.pareto import is_non_dominated\n",
    "\n",
    "pareto_mask = is_non_dominated(Y)\n",
    "mvar_p_mask = is_non_dominated(mvar)\n",
    "Y_p = Y[pareto_mask]\n",
    "mvar_p = mvar[mvar_p_mask]"
   ],
   "metadata": {
    "collapsed": false,
    "pycharm": {
     "name": "#%%\n"
    }
   }
  },
  {
   "cell_type": "code",
   "execution_count": 9,
   "outputs": [
    {
     "data": {
      "text/plain": "<matplotlib.collections.PathCollection at 0x17bca6df0>"
     },
     "execution_count": 9,
     "metadata": {},
     "output_type": "execute_result"
    }
   ],
   "source": [
    "plt.scatter(Y_p[:, 0], Y_p[:, 1])\n",
    "plt.scatter(mvar_p[:, 0], mvar_p[:, 1])"
   ],
   "metadata": {
    "collapsed": false,
    "pycharm": {
     "name": "#%%\n"
    }
   }
  },
  {
   "cell_type": "code",
   "execution_count": 10,
   "outputs": [
    {
     "data": {
      "text/plain": "tensor([[27],\n        [54],\n        [58],\n        [67],\n        [74],\n        [83],\n        [86],\n        [95]])"
     },
     "execution_count": 10,
     "metadata": {},
     "output_type": "execute_result"
    }
   ],
   "source": [
    "pareto_mask.nonzero()"
   ],
   "metadata": {
    "collapsed": false,
    "pycharm": {
     "name": "#%%\n"
    }
   }
  },
  {
   "cell_type": "code",
   "execution_count": 11,
   "outputs": [
    {
     "data": {
      "text/plain": "tensor([18, 23, 27, 54, 58, 63, 74, 83, 96])"
     },
     "execution_count": 11,
     "metadata": {},
     "output_type": "execute_result"
    }
   ],
   "source": [
    "(mvar_p_mask.nonzero() / mvar_per_X).long().unique()"
   ],
   "metadata": {
    "collapsed": false,
    "pycharm": {
     "name": "#%%\n"
    }
   }
  },
  {
   "cell_type": "markdown",
   "source": [
    "## There's a lot of overlap here. Let's look at all the points found by MARS-NEI & NParEGO"
   ],
   "metadata": {
    "collapsed": false,
    "pycharm": {
     "name": "#%% md\n"
    }
   }
  },
  {
   "cell_type": "code",
   "execution_count": 12,
   "outputs": [],
   "source": [
    "import os\n",
    "exp_dir = \"../experiments/experiment_v1\"\n",
    "\n",
    "def collect_Xs(problem, label):\n",
    "    all_Xs = []\n",
    "    dir_path = os.path.join(exp_dir, problem, label)\n",
    "    for fp in os.listdir(dir_path):\n",
    "        fp_path = os.path.join(dir_path, fp)\n",
    "        try:\n",
    "            output = torch.load(fp_path)\n",
    "            all_Xs.append(output[\"X\"])\n",
    "        except:\n",
    "            continue\n",
    "    all_Xs = torch.cat(all_Xs).unique(dim=0)\n",
    "    print(all_Xs.shape)\n",
    "    return all_Xs"
   ],
   "metadata": {
    "collapsed": false,
    "pycharm": {
     "name": "#%%\n"
    }
   }
  },
  {
   "cell_type": "code",
   "execution_count": 13,
   "outputs": [
    {
     "name": "stdout",
     "output_type": "stream",
     "text": [
      "torch.Size([2194, 4])\n",
      "torch.Size([2197, 4])\n"
     ]
    }
   ],
   "source": [
    "mars_Xs = collect_Xs(\"disc_brake\", \"ref_ch-var-nei\")\n",
    "parego_Xs = collect_Xs(\"disc_brake\", \"nparego\")"
   ],
   "metadata": {
    "collapsed": false,
    "pycharm": {
     "name": "#%%\n"
    }
   }
  },
  {
   "cell_type": "code",
   "execution_count": 14,
   "outputs": [],
   "source": [
    "parego_Ys = mvar_hv.eval_problem(parego_Xs)\n",
    "infeas = (parego_Ys[..., -mvar_hv.num_constraints :] < 0).any(dim=-1)\n",
    "parego_Ys = parego_Ys[..., : -mvar_hv.num_constraints]\n",
    "parego_Ys[infeas] = mvar_hv.hv.ref_point\n",
    "parego_mask = is_non_dominated(parego_Ys)\n",
    "parego_p_Ys = parego_Ys[parego_mask]"
   ],
   "metadata": {
    "collapsed": false,
    "pycharm": {
     "name": "#%%\n"
    }
   }
  },
  {
   "cell_type": "code",
   "execution_count": 15,
   "outputs": [],
   "source": [
    "mars_perturbed_Xs = mvar_hv.perturbation(mars_Xs)\n",
    "mars_perturbed_Y = mvar_hv.eval_problem(mars_perturbed_Xs)\n",
    "infeas = (mars_perturbed_Y[..., -mvar_hv.num_constraints :] < 0).any(dim=-1)\n",
    "mars_perturbed_Y = mars_perturbed_Y[..., : -mvar_hv.num_constraints]\n",
    "mars_perturbed_Y[infeas] = mvar_hv.hv.ref_point\n",
    "\n",
    "mars_mvar = (\n",
    "    mvar_hv.mvar(\n",
    "        mars_perturbed_Y.cpu(),\n",
    "        use_cpu=True,\n",
    "    )\n",
    "    .view(-1, mars_perturbed_Y.shape[-1])\n",
    "    .to(mars_Xs)\n",
    ")\n",
    "mars_mask = is_non_dominated(mars_mvar)\n",
    "mars_p_mvar = mars_mvar[mars_mask]"
   ],
   "metadata": {
    "collapsed": false,
    "pycharm": {
     "name": "#%%\n"
    }
   }
  },
  {
   "cell_type": "code",
   "execution_count": 16,
   "outputs": [
    {
     "data": {
      "text/plain": "Text(0.5, 1.0, 'qParEGO Nominal PF')"
     },
     "execution_count": 16,
     "metadata": {},
     "output_type": "execute_result"
    }
   ],
   "source": [
    "plt.scatter(parego_p_Ys[:, 0], parego_p_Ys[:, 1])\n",
    "plt.title(\"qParEGO Nominal PF\")"
   ],
   "metadata": {
    "collapsed": false,
    "pycharm": {
     "name": "#%%\n"
    }
   }
  },
  {
   "cell_type": "code",
   "execution_count": 17,
   "outputs": [
    {
     "data": {
      "text/plain": "Text(0.5, 1.0, 'MARS-NEI MVaR PF')"
     },
     "execution_count": 17,
     "metadata": {},
     "output_type": "execute_result"
    }
   ],
   "source": [
    "plt.scatter(mars_p_mvar[:, 0], mars_p_mvar[:, 1])\n",
    "plt.title(\"MARS-NEI MVaR PF\")"
   ],
   "metadata": {
    "collapsed": false,
    "pycharm": {
     "name": "#%%\n"
    }
   }
  },
  {
   "cell_type": "markdown",
   "source": [
    "# Let's just look at the joint Xs"
   ],
   "metadata": {
    "collapsed": false,
    "pycharm": {
     "name": "#%% md\n"
    }
   }
  },
  {
   "cell_type": "code",
   "execution_count": 18,
   "outputs": [],
   "source": [
    "Xs = torch.cat([mars_Xs, parego_Xs])\n",
    "\n",
    "Ys = mvar_hv.eval_problem(Xs)\n",
    "infeas = (Ys[..., -mvar_hv.num_constraints :] < 0).any(dim=-1)\n",
    "Ys = Ys[..., : -mvar_hv.num_constraints]\n",
    "Ys[infeas] = mvar_hv.hv.ref_point\n",
    "y_mask = is_non_dominated(Ys)\n",
    "p_Ys = Ys[y_mask]\n",
    "\n",
    "\n",
    "perturbed_Xs = mvar_hv.perturbation(Xs)\n",
    "perturbed_Ys = mvar_hv.eval_problem(perturbed_Xs)\n",
    "infeas = (perturbed_Ys[..., -mvar_hv.num_constraints :] < 0).any(dim=-1)\n",
    "perturbed_Ys = perturbed_Ys[..., : -mvar_hv.num_constraints]\n",
    "perturbed_Ys[infeas] = mvar_hv.hv.ref_point\n",
    "\n",
    "mvar = (\n",
    "    mvar_hv.mvar(\n",
    "        perturbed_Ys.cpu(),\n",
    "        use_cpu=True,\n",
    "    )\n",
    "    .view(-1, perturbed_Ys.shape[-1])\n",
    "    .to(Xs)\n",
    ")\n",
    "mvar_mask = is_non_dominated(mvar)\n",
    "p_mvar = mvar[mvar_mask]"
   ],
   "metadata": {
    "collapsed": false,
    "pycharm": {
     "name": "#%%\n"
    }
   }
  },
  {
   "cell_type": "markdown",
   "source": [
    "Let's find the nominal PF of the points on the MVaR PF."
   ],
   "metadata": {
    "collapsed": false,
    "pycharm": {
     "name": "#%% md\n"
    }
   }
  },
  {
   "cell_type": "code",
   "execution_count": 19,
   "outputs": [
    {
     "name": "stderr",
     "output_type": "stream",
     "text": [
      "/opt/anaconda3/envs/robust_mobo/lib/python3.9/site-packages/torch/_tensor.py:575: UserWarning: floor_divide is deprecated, and will be removed in a future version of pytorch. It currently rounds toward 0 (like the 'trunc' function NOT 'floor'). This results in incorrect rounding for negative values.\n",
      "To keep the current behavior, use torch.div(a, b, rounding_mode='trunc'), or for actual floor division, use torch.div(a, b, rounding_mode='floor'). (Triggered internally at  /Users/distiller/project/conda/conda-bld/pytorch_1623459065530/work/aten/src/ATen/native/BinaryOps.cpp:467.)\n",
      "  return torch.floor_divide(self, other)\n"
     ]
    }
   ],
   "source": [
    "mvar_per_X = mvar.shape[0] // Xs.shape[0]\n",
    "mvar_pf_idcs = mvar_mask.nonzero() // mvar_per_X\n",
    "mvar_pf_Ys = Ys[mvar_pf_idcs].squeeze()"
   ],
   "metadata": {
    "collapsed": false,
    "pycharm": {
     "name": "#%%\n"
    }
   }
  },
  {
   "cell_type": "code",
   "execution_count": 20,
   "outputs": [
    {
     "data": {
      "text/plain": "tensor(2)"
     },
     "execution_count": 20,
     "metadata": {},
     "output_type": "execute_result"
    }
   ],
   "source": [
    "target = torch.tensor([-2.55, -2])\n",
    "(p_mvar > target).all(dim=-1).sum()"
   ],
   "metadata": {
    "collapsed": false,
    "pycharm": {
     "name": "#%%\n"
    }
   }
  },
  {
   "cell_type": "code",
   "execution_count": 21,
   "outputs": [
    {
     "data": {
      "text/plain": "tensor([[2081],\n        [2081]])"
     },
     "execution_count": 21,
     "metadata": {},
     "output_type": "execute_result"
    }
   ],
   "source": [
    "(mvar > target).all(dim=-1).nonzero() // mvar_per_X"
   ],
   "metadata": {
    "collapsed": false,
    "pycharm": {
     "name": "#%%\n"
    }
   }
  },
  {
   "cell_type": "code",
   "execution_count": 22,
   "outputs": [],
   "source": [
    "mvar_picked_idx = 2081\n",
    "selected_mvar_X = Xs[mvar_picked_idx]\n",
    "selected_mvar_Y = Ys[mvar_picked_idx]"
   ],
   "metadata": {
    "collapsed": false,
    "pycharm": {
     "name": "#%%\n"
    }
   }
  },
  {
   "cell_type": "markdown",
   "source": [
    "Find points that dominate it in the nominal values."
   ],
   "metadata": {
    "collapsed": false,
    "pycharm": {
     "name": "#%% md\n"
    }
   }
  },
  {
   "cell_type": "code",
   "execution_count": 23,
   "outputs": [
    {
     "data": {
      "text/plain": "tensor([[ 217],\n        [2100],\n        [2213],\n        [2363],\n        [2522],\n        [2523],\n        [2524],\n        [2525],\n        [2535],\n        [2720],\n        [2779],\n        [2783],\n        [2920],\n        [2947],\n        [3179],\n        [3409],\n        [3429],\n        [3430],\n        [3465],\n        [3491],\n        [3505],\n        [3547],\n        [3555],\n        [3604],\n        [3614],\n        [3630],\n        [3645],\n        [3655],\n        [3664],\n        [3674],\n        [3768],\n        [3770],\n        [3789],\n        [3842],\n        [3846],\n        [3920],\n        [3996],\n        [4032],\n        [4033],\n        [4091],\n        [4150],\n        [4227],\n        [4236],\n        [4248],\n        [4260],\n        [4272],\n        [4342],\n        [4346],\n        [4352],\n        [4379]])"
     },
     "execution_count": 23,
     "metadata": {},
     "output_type": "execute_result"
    }
   ],
   "source": [
    "(Ys > selected_mvar_Y).all(dim=-1).nonzero()"
   ],
   "metadata": {
    "collapsed": false,
    "pycharm": {
     "name": "#%%\n"
    }
   }
  },
  {
   "cell_type": "markdown",
   "source": [
    "Pick one randomly."
   ],
   "metadata": {
    "collapsed": false,
    "pycharm": {
     "name": "#%% md\n"
    }
   }
  },
  {
   "cell_type": "code",
   "execution_count": 24,
   "outputs": [],
   "source": [
    "picked = 3996\n",
    "selected_nominal_X = Xs[picked]\n",
    "selected_nominal_Y = Ys[picked]"
   ],
   "metadata": {
    "collapsed": false,
    "pycharm": {
     "name": "#%%\n"
    }
   }
  },
  {
   "cell_type": "markdown",
   "source": [
    "Calculate the yields of the two"
   ],
   "metadata": {
    "collapsed": false,
    "pycharm": {
     "name": "#%% md\n"
    }
   }
  },
  {
   "cell_type": "code",
   "execution_count": 25,
   "outputs": [
    {
     "name": "stdout",
     "output_type": "stream",
     "text": [
      "MVaR yield: 0.953125, nominal yield: 0.58203125\n"
     ]
    }
   ],
   "source": [
    "selected_mvar_perturbed_Ys = perturbed_Ys[mvar_picked_idx * 512: (mvar_picked_idx+1) * 512]\n",
    "selected_nominal_perturbed_Ys = perturbed_Ys[picked * 512: (picked + 1) * 512]\n",
    "\n",
    "selected_mvar_yield = (selected_mvar_perturbed_Ys > target).all(dim=-1).sum() / 512.0\n",
    "selected_nominal_yield = (selected_nominal_perturbed_Ys > target).all(dim=-1).sum() / 512.0\n",
    "\n",
    "print(f\"MVaR yield: {selected_mvar_yield}, nominal yield: {selected_nominal_yield}\")"
   ],
   "metadata": {
    "collapsed": false,
    "pycharm": {
     "name": "#%%\n"
    }
   }
  },
  {
   "cell_type": "markdown",
   "source": [
    "Get all the Y's for both picked values, without clamping to the ref pt."
   ],
   "metadata": {
    "collapsed": false
   }
  },
  {
   "cell_type": "code",
   "execution_count": 26,
   "outputs": [],
   "source": [
    "p_Xs = mvar_hv.perturbation(selected_nominal_X.unsqueeze(0))\n",
    "selected_nominal_raw_Ys = mvar_hv.eval_problem(p_Xs)\n",
    "selected_nominal_infeas = (selected_nominal_raw_Ys[..., -mvar_hv.num_constraints:] < 0).any(dim=-1)\n",
    "selected_nominal_raw_Ys = selected_nominal_raw_Ys[..., : -mvar_hv.num_constraints]\n",
    "selected_nominal_infeas = torch.logical_or(selected_nominal_infeas, (selected_nominal_raw_Ys < target).any(dim=-1))\n",
    "\n",
    "p_Xs = mvar_hv.perturbation(selected_mvar_X.unsqueeze(0))\n",
    "selected_mvar_raw_Ys = mvar_hv.eval_problem(p_Xs)\n",
    "selected_mvar_infeas = (selected_mvar_raw_Ys[..., -mvar_hv.num_constraints:] < 0).any(dim=-1)\n",
    "selected_mvar_raw_Ys = selected_mvar_raw_Ys[..., : -mvar_hv.num_constraints]\n",
    "selected_mvar_infeas = torch.logical_or(selected_mvar_infeas, (selected_mvar_raw_Ys < target).any(dim=-1))"
   ],
   "metadata": {
    "collapsed": false,
    "pycharm": {
     "name": "#%%\n"
    }
   }
  },
  {
   "cell_type": "markdown",
   "source": [
    "## Collect all the plotting here"
   ],
   "metadata": {
    "collapsed": false,
    "pycharm": {
     "name": "#%% md\n"
    }
   }
  },
  {
   "cell_type": "code",
   "execution_count": 27,
   "outputs": [
    {
     "name": "stderr",
     "output_type": "stream",
     "text": [
      "/var/folders/t3/xhtsf2011qndtzgvjdgdnylw0000gn/T/ipykernel_2023/2616554393.py:14: MatplotlibDeprecationWarning: Support for setting the 'text.latex.preamble' or 'pgf.preamble' rcParam to a list of strings is deprecated since 3.3 and will be removed two minor releases later; set it to a single string instead.\n",
      "  matplotlib.rcParams['text.latex.preamble']=[r\"\\usepackage{amsmath}\\usepackage{bm}\"]\n"
     ]
    }
   ],
   "source": [
    "rc('font', family='serif', style='normal', variant='normal', weight='normal', stretch='normal', size=8)\n",
    "matplotlib.rcParams['ps.useafm'] = True\n",
    "matplotlib.rcParams['pdf.use14corefonts'] = True\n",
    "matplotlib.rcParams['text.usetex'] = True\n",
    "matplotlib.style.use('default')\n",
    "matplotlib.rcParams['xtick.labelsize'] = 12\n",
    "matplotlib.rcParams['ytick.labelsize'] = 12\n",
    "matplotlib.rcParams['axes.titlesize'] = 14\n",
    "matplotlib.rcParams['axes.labelsize'] = 12\n",
    "matplotlib.rcParams['legend.fontsize'] = 10\n",
    "matplotlib.rcParams['mathtext.fontset'] = 'stix'\n",
    "matplotlib.rcParams['font.family'] = 'STIXGeneral'\n",
    "matplotlib.pyplot.title(r'ABC123 vs $\\mathrm{ABC123}^{123}$')\n",
    "matplotlib.rcParams['text.latex.preamble']=[r\"\\usepackage{amsmath}\\usepackage{bm}\"]\n",
    "\n",
    "default_figsize = (5, 4)"
   ],
   "metadata": {
    "collapsed": false,
    "pycharm": {
     "name": "#%%\n"
    }
   }
  },
  {
   "cell_type": "code",
   "execution_count": 28,
   "outputs": [],
   "source": [
    "from matplotlib.ticker import FormatStrFormatter\n",
    "\n",
    "fig, ax = plt.subplots(figsize=default_figsize)\n",
    "\n",
    "obj_vals = \"Values\"\n",
    "ss=5\n",
    "p_Y_color = \"deepskyblue\"\n",
    "p_mvar_color = \"orange\"\n",
    "mvar_pf_color = \"gold\"\n",
    "ax.scatter(p_Ys[:, 0], p_Ys[:, 1], color=p_Y_color,\n",
    "           label=f\"PF over Nominal {obj_vals}\", s=ss)\n",
    "ax.scatter(p_mvar[:, 0], p_mvar[:, 1], color=p_mvar_color,\n",
    "           label=\"MVaR\", s=ss)\n",
    "ax.scatter(mvar_pf_Ys[:, 0], mvar_pf_Ys[:, 1], color=mvar_pf_color,\n",
    "           label=f\"Nominal {obj_vals} of MVaR Optimal Designs\", s=ss)\n",
    "\n",
    "ax.legend()\n",
    "# ax.grid()\n",
    "\n",
    "s=200\n",
    "robust_color = \"red\"\n",
    "ax.scatter(target[0], target[1], marker=\"*\", s=s, color=robust_color,\n",
    "           label=\"Target Specification\", edgecolors= \"black\")\n",
    "\n",
    "selected_mvar_color = robust_color\n",
    "ax.scatter(selected_mvar_Y[0], selected_mvar_Y[1], marker=\"^\", s=s,\n",
    "           label=f\"Nominal {obj_vals} of the Robust Design\", color=robust_color, edgecolors= \"black\")\n",
    "\n",
    "nominal_color = \"mediumblue\"\n",
    "ax.scatter(selected_nominal_Y[0], selected_nominal_Y[1], marker=\"p\", s=s,\n",
    "           label=f\"Nominal {obj_vals} of the Non-robust Design\", color=nominal_color, edgecolors= \"black\")\n",
    "\n",
    "add_shade = True\n",
    "shade_color = \"darkgray\"\n",
    "shade_alpha = 0.2\n",
    "if add_shade:\n",
    "    # Shade the area dominating the target.\n",
    "    ylim = ax.get_ylim()\n",
    "    x_lim = ax.get_xlim()\n",
    "    y_min = 1 - (ylim[1] - target[1]) / (ylim[1] - ylim[0])\n",
    "    ax.axvspan(xmin=float(target[0]), xmax=x_lim[1], ymin=float(y_min), color=shade_color, alpha=shade_alpha,\n",
    "               label=\"Area Meeting Target Specification\")\n",
    "    ax.set_xlim(x_lim)\n",
    "    ax.set_ylim(ylim)\n",
    "\n",
    "# ax.set_title(\"Yield Loss from Picking a Non-Robust Solution\")\n",
    "ax.set_title(\"Selecting Robust and Non-Robust Designs\")\n",
    "\n",
    "ax.set_xlabel(r\"Objective 1\")\n",
    "ax.set_ylabel(r\"Objective 2\")\n",
    "ax.yaxis.set_major_formatter(FormatStrFormatter('%.2f'))\n",
    "\n",
    "ax.legend()\n",
    "plt.tight_layout()\n",
    "plt.savefig(f\"plots/yield_1.pdf\", dpi=300, bbox_inches='tight')\n",
    "fig.show()\n",
    "\n",
    "\n",
    "fig, ax = plt.subplots(figsize=default_figsize)\n",
    "\n",
    "# ax.grid()\n",
    "truncated_legend = True\n",
    "if truncated_legend:\n",
    "    no_legend_str = str()\n",
    "    ax.scatter(p_Ys[:, 0], p_Ys[:, 1], label=no_legend_str, s=ss, color=p_Y_color)\n",
    "    ax.scatter(p_mvar[:, 0], p_mvar[:, 1], label=no_legend_str, s=ss, color=p_mvar_color)\n",
    "    ax.scatter(mvar_pf_Ys[:, 0], mvar_pf_Ys[:, 1], label=no_legend_str, s=ss, color=mvar_pf_color)\n",
    "    ax.scatter(target[0], target[1], marker=\"*\", s=s, label=no_legend_str, edgecolors= \"black\", color=robust_color)\n",
    "    ax.scatter(selected_mvar_Y[0], selected_mvar_Y[1], marker=\"^\", s=s, label=no_legend_str, color=selected_mvar_color, edgecolors= \"black\")\n",
    "    ax.scatter(selected_nominal_Y[0], selected_nominal_Y[1], marker=\"p\", s=s, label=no_legend_str, color=nominal_color, edgecolors= \"black\")\n",
    "else:\n",
    "    raise NotImplementedError\n",
    "\n",
    "ax.set_title(\"Yield Loss from Picking a Non-Robust Solution\")\n",
    "\n",
    "# Shade the area dominating the target.\n",
    "ylim = (-2.1, -1.4)\n",
    "x_lim = (-2.7, -1.75)\n",
    "y_min = 1 - (ylim[1] - target[1]) / (ylim[1] - ylim[0])\n",
    "ax.axvspan(\n",
    "    xmin=float(target[0]), xmax=x_lim[1], ymin=float(y_min), color=shade_color,\n",
    "    alpha=shade_alpha, label=\"Area Meeting Target Specification\"\n",
    ")\n",
    "ax.set_xlim(x_lim)\n",
    "ax.set_ylim(ylim)\n",
    "\n",
    "\n",
    "# infeasible_mvar_color = \"orchid\"\n",
    "# infeasible_nominal_color = \"lightsalmon\"\n",
    "infeasible_mvar_color = selected_mvar_color\n",
    "infeasible_nominal_color = nominal_color\n",
    "feasible_mvar_marker = \"+\"\n",
    "infeasible_mvar_marker = \"_\"\n",
    "feasible_nominal_marker = feasible_mvar_marker\n",
    "infeasible_nominal_marker = infeasible_mvar_marker\n",
    "common_kwargs = {\n",
    "    \"s\": 25,\n",
    "    \"alpha\": 0.7,\n",
    "    \"linewidths\": 1,\n",
    "}\n",
    "\n",
    "n_w = 128\n",
    "mvar_feas = selected_mvar_raw_Ys[:n_w][~selected_mvar_infeas[:n_w]]\n",
    "mvar_infeas = selected_mvar_raw_Ys[:n_w][selected_mvar_infeas[:n_w]]\n",
    "nominal_feas = selected_nominal_raw_Ys[:n_w][~selected_nominal_infeas[:n_w]]\n",
    "nominal_infeas = selected_nominal_raw_Ys[:n_w][selected_nominal_infeas[:n_w]]\n",
    "\n",
    "# MVaR\n",
    "dist_str = \"Dist.\"\n",
    "ax.scatter(\n",
    "    mvar_feas[:, 0],\n",
    "    mvar_feas[:, 1],\n",
    "    marker=feasible_mvar_marker,\n",
    "    color=selected_mvar_color, label=f\"{dist_str} of the Robust Design, Feasible\",\n",
    "    **common_kwargs,\n",
    ")\n",
    "ax.scatter(\n",
    "    mvar_infeas[:, 0],\n",
    "    mvar_infeas[:, 1],\n",
    "    marker=infeasible_mvar_marker,\n",
    "    color=infeasible_mvar_color, label=f\"{dist_str} of the Robust Design, Infeasible\",\n",
    "    **common_kwargs,\n",
    ")\n",
    "# Nominal\n",
    "ax.scatter(\n",
    "    nominal_feas[:, 0],\n",
    "    nominal_feas[:, 1],\n",
    "    marker=feasible_nominal_marker,\n",
    "    color=nominal_color, label=f\"{dist_str} of the Non-Robust Design, Feasible\",\n",
    "    **common_kwargs,\n",
    ")\n",
    "ax.scatter(\n",
    "    nominal_infeas[:, 0],\n",
    "    nominal_infeas[:, 1],\n",
    "    marker=infeasible_nominal_marker,\n",
    "    color=infeasible_nominal_color, label=f\"{dist_str} of the Non-Robust Design, Infeasible\",\n",
    "    **common_kwargs,\n",
    ")\n",
    "\n",
    "ax.set_xlabel(r\"Objective 1\")\n",
    "ax.set_ylabel(r\"Objective 2\")\n",
    "ax.yaxis.set_major_formatter(FormatStrFormatter('%.2f'))\n",
    "ax.legend()\n",
    "plt.tight_layout()\n",
    "plt.savefig(f\"plots/yield_2.pdf\", dpi=300, bbox_inches='tight')\n",
    "fig.show()\n"
   ],
   "metadata": {
    "collapsed": false,
    "pycharm": {
     "name": "#%%\n"
    }
   }
  },
  {
   "cell_type": "markdown",
   "source": [
    "## Single plot version"
   ],
   "metadata": {
    "collapsed": false,
    "pycharm": {
     "name": "#%% md\n"
    }
   }
  },
  {
   "cell_type": "code",
   "execution_count": 31,
   "outputs": [],
   "source": [
    "matplotlib.rcParams['xtick.labelsize'] = 8\n",
    "matplotlib.rcParams['ytick.labelsize'] = 8\n",
    "matplotlib.rcParams['axes.titlesize'] = 10\n",
    "matplotlib.rcParams['axes.labelsize'] = 8\n",
    "matplotlib.rcParams['legend.fontsize'] = 9\n",
    "\n",
    "\n",
    "fig, ax = plt.subplots(figsize=default_figsize)\n",
    "\n",
    "obj_vals = \"Values\"\n",
    "ss=5\n",
    "p_Y_color = \"deepskyblue\"\n",
    "p_mvar_color = \"orange\"\n",
    "mvar_pf_color = \"gold\"\n",
    "ax.scatter(p_Ys[:, 0], p_Ys[:, 1], color=p_Y_color,\n",
    "           label=f\"PF over Nominal {obj_vals}\", s=ss)\n",
    "ax.scatter(p_mvar[:, 0], p_mvar[:, 1], color=p_mvar_color,\n",
    "           label=\"MVaR\", s=ss)\n",
    "ax.scatter(mvar_pf_Ys[:, 0], mvar_pf_Ys[:, 1], color=mvar_pf_color,\n",
    "           label=f\"Nominal {obj_vals} of MVaR Optimal Designs\", s=ss)\n",
    "\n",
    "ax.legend()\n",
    "# ax.grid()\n",
    "\n",
    "s=80\n",
    "common_kwargs = {\"linewidth\": 2, \"edgecolors\": \"black\", \"s\": s}\n",
    "# robust_color = \"red\"\n",
    "robust_color = \"tomato\"\n",
    "ax.scatter(target[0], target[1], marker=\"*\", color=robust_color,\n",
    "           label=\"Target Specification\", **common_kwargs)\n",
    "\n",
    "selected_mvar_color = robust_color\n",
    "ax.scatter(selected_mvar_Y[0], selected_mvar_Y[1], marker=\"^\",\n",
    "           label=f\"Nominal {obj_vals} of the Robust Design\", color=robust_color, **common_kwargs)\n",
    "\n",
    "# nominal_color = \"mediumblue\"\n",
    "nominal_color = \"darkslategrey\"\n",
    "ax.scatter(selected_nominal_Y[0], selected_nominal_Y[1], marker=\"p\",\n",
    "           label=f\"Nominal {obj_vals} of the Non-robust Design\", color=nominal_color, **common_kwargs)\n",
    "\n",
    "# ax.set_title(\"Yield Loss from Picking a Non-Robust Solution\")\n",
    "\n",
    "\n",
    "# Shade the area dominating the target.\n",
    "shade_color = \"darkgray\"\n",
    "shade_alpha = 0.2\n",
    "ylim = (-2.1, -1.4)\n",
    "x_lim = (-2.7, -1.75)\n",
    "y_min = 1 - (ylim[1] - target[1]) / (ylim[1] - ylim[0])\n",
    "ax.axvspan(\n",
    "    xmin=float(target[0]), xmax=x_lim[1], ymin=float(y_min), color=shade_color,\n",
    "    alpha=shade_alpha, label=\"Area Meeting Target Specification\"\n",
    ")\n",
    "ax.set_xlim(x_lim)\n",
    "ax.set_ylim(ylim)\n",
    "\n",
    "\n",
    "infeasible_mvar_color = selected_mvar_color\n",
    "infeasible_nominal_color = nominal_color\n",
    "feasible_mvar_marker = \"o\"\n",
    "infeasible_mvar_marker = \"o\"\n",
    "feasible_nominal_marker = feasible_mvar_marker\n",
    "infeasible_nominal_marker = infeasible_mvar_marker\n",
    "common_kwargs = {\n",
    "    \"s\": 15,\n",
    "    # \"alpha\": 0.7,\n",
    "    \"linewidths\": 1,\n",
    "}\n",
    "feasible_alpha = 0.7\n",
    "infeasible_alpha = 0.2\n",
    "\n",
    "n_w = 128\n",
    "mvar_feas = selected_mvar_raw_Ys[:n_w][~selected_mvar_infeas[:n_w]]\n",
    "mvar_infeas = selected_mvar_raw_Ys[:n_w][selected_mvar_infeas[:n_w]]\n",
    "nominal_feas = selected_nominal_raw_Ys[:n_w][~selected_nominal_infeas[:n_w]]\n",
    "nominal_infeas = selected_nominal_raw_Ys[:n_w][selected_nominal_infeas[:n_w]]\n",
    "\n",
    "# MVaR\n",
    "dist_str = \"Dist.\"\n",
    "gpert = r\"\\diamond\"\n",
    "# fx_robust = r\"$\\bm{f}(\\bm{x}_{Robust} \\diamond \\bm{\\xi})$\"\n",
    "# fx_nonrobust = r\"$\\bm{f}(\\bm{x}_{Non-Robust} \\diamond \\bm{\\xi})$\"\n",
    "fx_robust = f\"{dist_str} of Robust Design\"\n",
    "fx_nonrobust = f\"{dist_str} of Non-Robust Design\"\n",
    "ax.scatter(\n",
    "    mvar_feas[:, 0],\n",
    "    mvar_feas[:, 1],\n",
    "    marker=feasible_mvar_marker,\n",
    "    color=selected_mvar_color,\n",
    "    label=f\"{fx_robust}, Feasible\",\n",
    "    **common_kwargs, alpha=feasible_alpha,\n",
    ")\n",
    "ax.scatter(\n",
    "    mvar_infeas[:, 0],\n",
    "    mvar_infeas[:, 1],\n",
    "    marker=infeasible_mvar_marker,\n",
    "    color=infeasible_mvar_color,\n",
    "    label=f\"{fx_robust}, Infeasible\",\n",
    "    **common_kwargs, alpha=infeasible_alpha,\n",
    ")\n",
    "# Nominal\n",
    "ax.scatter(\n",
    "    nominal_feas[:, 0],\n",
    "    nominal_feas[:, 1],\n",
    "    marker=feasible_nominal_marker,\n",
    "    color=nominal_color,\n",
    "    label=f\"{fx_nonrobust}, Feasible\",\n",
    "    **common_kwargs, alpha=feasible_alpha,\n",
    ")\n",
    "ax.scatter(\n",
    "    nominal_infeas[:, 0],\n",
    "    nominal_infeas[:, 1],\n",
    "    marker=infeasible_nominal_marker,\n",
    "    color=infeasible_nominal_color,\n",
    "    label=f\"{fx_nonrobust}, Infeasible\",\n",
    "    **common_kwargs, alpha=infeasible_alpha,\n",
    ")\n",
    "\n",
    "ax.set_xlabel(r\"Objective 1\")\n",
    "ax.set_ylabel(r\"Objective 2\")\n",
    "# ax.yaxis.set_major_formatter(FormatStrFormatter('%.2f'))\n",
    "h, l = ax.get_legend_handles_labels()\n",
    "new_h = h[1:7] + h[:1] + h[7:]\n",
    "new_l = l[1:7] + l[:1] + l[7:]\n",
    "leg = ax.legend(\n",
    "    handles=new_h,\n",
    "    labels=new_l,\n",
    "    loc=\"lower center\",\n",
    "    # loc=\"upper center\",\n",
    "    ncol=2,\n",
    "    bbox_to_anchor=(0.45,-0.95,0,0),\n",
    "    # bbox_to_anchor=(0.45,1.8,0,0),\n",
    "    columnspacing=0.5,\n",
    "    borderpad=0.1,\n",
    "    handletextpad=0.5,\n",
    "    handlelength=1,\n",
    "    # **{'fontsize': 7.2}\n",
    ")\n",
    "\n",
    "ylim = (ylim[0], -1.7)\n",
    "ax.set_ylim(ylim)\n",
    "ax.set_aspect(1)\n",
    "\n",
    "\n",
    "# fig.tight_layout(rect=[0, 0, 1, 1])\n",
    "fig.tight_layout()\n",
    "plt.savefig(f\"plots/yield_single.pdf\", dpi=300, bbox_inches='tight')\n",
    "fig.show()\n"
   ],
   "metadata": {
    "collapsed": false,
    "pycharm": {
     "name": "#%%\n"
    }
   }
  },
  {
   "cell_type": "markdown",
   "source": [
    "## Side-by-side legend version"
   ],
   "metadata": {
    "collapsed": false
   }
  },
  {
   "cell_type": "code",
   "execution_count": 30,
   "outputs": [],
   "source": [
    "matplotlib.rcParams['xtick.labelsize'] = 9\n",
    "matplotlib.rcParams['ytick.labelsize'] = 9\n",
    "matplotlib.rcParams['axes.titlesize'] = 11\n",
    "matplotlib.rcParams['axes.labelsize'] = 9\n",
    "matplotlib.rcParams['legend.fontsize'] = 10\n",
    "\n",
    "fig, ax = plt.subplots(ncols=1, figsize=(10, 3))\n",
    "\n",
    "# ax = axes[0]\n",
    "obj_vals = \"Values\"\n",
    "ss=5\n",
    "p_Y_color = \"deepskyblue\"\n",
    "p_mvar_color = \"orange\"\n",
    "mvar_pf_color = \"gold\"\n",
    "ax.scatter(p_Ys[:, 0], p_Ys[:, 1], color=p_Y_color,\n",
    "           label=f\"PF over Nominal {obj_vals}\", s=ss)\n",
    "ax.scatter(p_mvar[:, 0], p_mvar[:, 1], color=p_mvar_color,\n",
    "           label=\"MVaR\", s=ss)\n",
    "ax.scatter(mvar_pf_Ys[:, 0], mvar_pf_Ys[:, 1], color=mvar_pf_color,\n",
    "           label=f\"Nominal {obj_vals} of MVaR Optimal Designs\", s=ss)\n",
    "\n",
    "ax.legend()\n",
    "# ax.grid()\n",
    "\n",
    "s=200\n",
    "common_kwargs = {\"linewidth\": 3, \"edgecolors\": \"black\", \"s\": s}\n",
    "# robust_color = \"red\"\n",
    "robust_color = \"tomato\"\n",
    "ax.scatter(target[0], target[1], marker=\"*\", color=robust_color,\n",
    "           label=\"Target Specification\", **common_kwargs)\n",
    "\n",
    "selected_mvar_color = robust_color\n",
    "ax.scatter(selected_mvar_Y[0], selected_mvar_Y[1], marker=\"^\",\n",
    "           label=f\"Nominal {obj_vals} of the Robust Design\", color=robust_color, **common_kwargs)\n",
    "\n",
    "# nominal_color = \"mediumblue\"\n",
    "nominal_color = \"darkslategrey\"\n",
    "ax.scatter(selected_nominal_Y[0], selected_nominal_Y[1], marker=\"p\",\n",
    "           label=f\"Nominal {obj_vals} of the Non-robust Design\", color=nominal_color, **common_kwargs)\n",
    "\n",
    "# ax.set_title(\"Yield Loss from Picking a Non-Robust Solution\")\n",
    "\n",
    "\n",
    "# Shade the area dominating the target.\n",
    "shade_color = \"darkgray\"\n",
    "shade_alpha = 0.2\n",
    "ylim = (-2.1, -1.4)\n",
    "x_lim = (-2.7, -1.75)\n",
    "y_min = 1 - (ylim[1] - target[1]) / (ylim[1] - ylim[0])\n",
    "ax.axvspan(\n",
    "    xmin=float(target[0]), xmax=x_lim[1], ymin=float(y_min), color=shade_color,\n",
    "    alpha=shade_alpha, label=\"Area Meeting Target Specification\"\n",
    ")\n",
    "ax.set_xlim(x_lim)\n",
    "ax.set_ylim(ylim)\n",
    "\n",
    "\n",
    "infeasible_mvar_color = selected_mvar_color\n",
    "infeasible_nominal_color = nominal_color\n",
    "feasible_mvar_marker = \"o\"\n",
    "infeasible_mvar_marker = \"o\"\n",
    "feasible_nominal_marker = feasible_mvar_marker\n",
    "infeasible_nominal_marker = infeasible_mvar_marker\n",
    "common_kwargs = {\n",
    "    \"s\": 15,\n",
    "    # \"alpha\": 0.7,\n",
    "    \"linewidths\": 1,\n",
    "}\n",
    "feasible_alpha = 0.7\n",
    "infeasible_alpha = 0.2\n",
    "\n",
    "n_w = 128\n",
    "mvar_feas = selected_mvar_raw_Ys[:n_w][~selected_mvar_infeas[:n_w]]\n",
    "mvar_infeas = selected_mvar_raw_Ys[:n_w][selected_mvar_infeas[:n_w]]\n",
    "nominal_feas = selected_nominal_raw_Ys[:n_w][~selected_nominal_infeas[:n_w]]\n",
    "nominal_infeas = selected_nominal_raw_Ys[:n_w][selected_nominal_infeas[:n_w]]\n",
    "\n",
    "# MVaR\n",
    "dist_str = \"Dist.\"\n",
    "gpert = r\"\\diamond\"\n",
    "# fx_robust = r\"$\\bm{f}(\\bm{x}_{Robust} \\diamond \\bm{\\xi})$\"\n",
    "# fx_nonrobust = r\"$\\bm{f}(\\bm{x}_{Non-Robust} \\diamond \\bm{\\xi})$\"\n",
    "fx_robust = f\"{dist_str} of Robust Design\"\n",
    "fx_nonrobust = f\"{dist_str} of Non-Robust Design\"\n",
    "ax.scatter(\n",
    "    mvar_feas[:, 0],\n",
    "    mvar_feas[:, 1],\n",
    "    marker=feasible_mvar_marker,\n",
    "    color=selected_mvar_color,\n",
    "    label=f\"{fx_robust}, Feasible\",\n",
    "    **common_kwargs, alpha=feasible_alpha,\n",
    ")\n",
    "ax.scatter(\n",
    "    mvar_infeas[:, 0],\n",
    "    mvar_infeas[:, 1],\n",
    "    marker=infeasible_mvar_marker,\n",
    "    color=infeasible_mvar_color,\n",
    "    label=f\"{fx_robust}, Infeasible\",\n",
    "    **common_kwargs, alpha=infeasible_alpha,\n",
    ")\n",
    "# Nominal\n",
    "ax.scatter(\n",
    "    nominal_feas[:, 0],\n",
    "    nominal_feas[:, 1],\n",
    "    marker=feasible_nominal_marker,\n",
    "    color=nominal_color,\n",
    "    label=f\"{fx_nonrobust}, Feasible\",\n",
    "    **common_kwargs, alpha=feasible_alpha,\n",
    ")\n",
    "ax.scatter(\n",
    "    nominal_infeas[:, 0],\n",
    "    nominal_infeas[:, 1],\n",
    "    marker=infeasible_nominal_marker,\n",
    "    color=infeasible_nominal_color,\n",
    "    label=f\"{fx_nonrobust}, Infeasible\",\n",
    "    **common_kwargs, alpha=infeasible_alpha,\n",
    ")\n",
    "\n",
    "ax.set_xlabel(r\"Objective 1\")\n",
    "ax.set_ylabel(r\"Objective 2\")\n",
    "# ax.yaxis.set_major_formatter(FormatStrFormatter('%.2f'))\n",
    "h, l = ax.get_legend_handles_labels()\n",
    "new_h = h[1:7] + h[:1] + h[7:]\n",
    "new_l = l[1:7] + l[:1] + l[7:]\n",
    "\n",
    "ylim = (ylim[0], -1.7)\n",
    "ax.set_ylim(ylim)\n",
    "ax.set_aspect(1)\n",
    "\n",
    "# ax = axes[1]\n",
    "# fig.delaxes(ax)\n",
    "leg = ax.legend(\n",
    "    handles=new_h,\n",
    "    labels=new_l,\n",
    "    loc=\"upper left\",\n",
    "    ncol=1,\n",
    "    bbox_to_anchor=(1.0,1.0,0,0),\n",
    "    columnspacing=0.5,\n",
    "    borderpad=0.1,\n",
    "    handletextpad=0.5,\n",
    "    handlelength=1,\n",
    "    # **{'fontsize': 7.2}\n",
    ")\n",
    "\n",
    "# fig.tight_layout(rect=[0, 0, 1, 1])\n",
    "fig.tight_layout()\n",
    "plt.savefig(f\"plots/yield_sidebyside.pdf\", dpi=300, bbox_inches='tight')\n",
    "fig.show()"
   ],
   "metadata": {
    "collapsed": false,
    "pycharm": {
     "name": "#%%\n"
    }
   }
  }
 ],
 "metadata": {
  "kernelspec": {
   "display_name": "Python 3",
   "language": "python",
   "name": "python3"
  },
  "language_info": {
   "codemirror_mode": {
    "name": "ipython",
    "version": 2
   },
   "file_extension": ".py",
   "mimetype": "text/x-python",
   "name": "python",
   "nbconvert_exporter": "python",
   "pygments_lexer": "ipython2",
   "version": "2.7.6"
  }
 },
 "nbformat": 4,
 "nbformat_minor": 0
}