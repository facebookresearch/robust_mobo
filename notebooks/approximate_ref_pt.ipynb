{
 "cells": [
  {
   "cell_type": "code",
   "execution_count": 4,
   "metadata": {
    "collapsed": true
   },
   "outputs": [],
   "source": [
    "from time import time\n",
    "\n",
    "import torch\n",
    "from botorch.utils.multi_objective import infer_reference_point\n",
    "from botorch.utils.transforms import unnormalize\n",
    "from botorch.utils.multi_objective.pareto import is_non_dominated\n",
    "from botorch.utils.multi_objective.box_decompositions import NondominatedPartitioning\n",
    "\n",
    "from robust_mobo.input_transform import InputPerturbation\n",
    "from robust_mobo.multi_objective_risk_measures import MVaR\n",
    "from robust_mobo.experiment_utils import get_perturbations, get_problem\n",
    "\n",
    "import matplotlib.pyplot as plt\n",
    "%matplotlib inline\n",
    "\n",
    "func = get_problem(\"gmm4\")\n",
    "use_mvar: bool = True\n",
    "\n",
    "tkwargs = {}\n",
    "n_w = 32\n",
    "perturbations = get_perturbations(\n",
    "    n_w=n_w,\n",
    "    dim=func.dim,\n",
    "    bounds=func.bounds,\n",
    "    method=\"sobol-normal\",\n",
    "    std_dev=0.05,\n",
    "    tkwargs=tkwargs,\n",
    ")\n",
    "if use_mvar:\n",
    "    obj = MVaR(n_w=n_w, alpha=0.8)\n",
    "    perturb = InputPerturbation(perturbation_set=perturbations).eval()\n",
    "else:\n",
    "    perturb = lambda x: x\n",
    "    obj = lambda x: x"
   ]
  },
  {
   "cell_type": "code",
   "execution_count": 5,
   "outputs": [],
   "source": [
    "def get_ref(num_samples: int):\n",
    "    start = time()\n",
    "    test_x = unnormalize(torch.rand(num_samples, 1, func.dim, **tkwargs), func.bounds)\n",
    "    y = obj(func(perturb(test_x))).view(-1, func.num_objectives)\n",
    "    mask = is_non_dominated(y)\n",
    "    pareto_y = y[mask]\n",
    "    ref_pt = infer_reference_point(pareto_y)\n",
    "    hv = NondominatedPartitioning(ref_pt, pareto_y).compute_hypervolume()\n",
    "    if pareto_y.shape[-1] == 2:\n",
    "        plt.scatter(pareto_y[:, 0], pareto_y[:, 1])\n",
    "        plt.show()\n",
    "    print(\"time \", time() - start)\n",
    "    print(\"hv\", hv)\n",
    "    print(f\"ref pt {ref_pt}\")\n"
   ],
   "metadata": {
    "collapsed": false,
    "pycharm": {
     "name": "#%%\n"
    }
   }
  },
  {
   "cell_type": "code",
   "execution_count": 6,
   "outputs": [
    {
     "name": "stdout",
     "output_type": "stream",
     "text": [
      "time  5137.311141014099\n",
      "hv tensor(0.0290)\n",
      "ref pt tensor([ 0.0322, -0.0398,  0.1168, -0.0023])\n",
      "CPU times: user 3h 46min 27s, sys: 5min 45s, total: 3h 52min 13s\n",
      "Wall time: 1h 25min 37s\n"
     ]
    }
   ],
   "source": [
    "%time get_ref(10000)"
   ],
   "metadata": {
    "collapsed": false,
    "pycharm": {
     "name": "#%%\n"
    }
   }
  }
 ],
 "metadata": {
  "kernelspec": {
   "display_name": "Python 3",
   "language": "python",
   "name": "python3"
  },
  "language_info": {
   "codemirror_mode": {
    "name": "ipython",
    "version": 2
   },
   "file_extension": ".py",
   "mimetype": "text/x-python",
   "name": "python",
   "nbconvert_exporter": "python",
   "pygments_lexer": "ipython2",
   "version": "2.7.6"
  }
 },
 "nbformat": 4,
 "nbformat_minor": 0
}