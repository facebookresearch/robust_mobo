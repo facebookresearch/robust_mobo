{
 "cells": [
  {
   "cell_type": "code",
   "execution_count": 6,
   "metadata": {
    "collapsed": true,
    "pycharm": {
     "name": "#%%\n"
    }
   },
   "outputs": [],
   "source": [
    "import os\n",
    "import json\n",
    "import torch\n",
    "from approximate_max_hv_run import get_max_hv, construct_mvar_hv, exp_dir, max_hv_dir\n",
    "from botorch.utils.multi_objective import is_non_dominated\n",
    "from time import time\n",
    "from get_hv_from_mvars import get_hv_from_mvars\n",
    "\n",
    "def save_all_X(problem, output_name):\n",
    "    all_Xs = []\n",
    "    problem_path = os.path.join(exp_dir, problem)\n",
    "    for p in os.listdir(problem_path):\n",
    "        p_path = os.path.join(problem_path, p)\n",
    "        if os.path.isdir(p_path):\n",
    "            for fp in os.listdir(p_path):\n",
    "                fp_path = os.path.join(p_path, fp)\n",
    "                try:\n",
    "                    output = torch.load(fp_path)\n",
    "                    all_Xs.append(output[\"X\"])\n",
    "                except:\n",
    "                    continue\n",
    "    all_Xs = torch.cat(all_Xs).unique(dim=0)\n",
    "    print(all_Xs.shape)\n",
    "    output_path = os.path.join(max_hv_dir, f\"{output_name}.pt\")\n",
    "    if os.path.exists(output_path):\n",
    "        raise FileExistsError\n",
    "    torch.save({\"all_Xs\": all_Xs}, output_path)\n",
    "\n",
    "\n",
    "def merge_mvars(problem, output_name):\n",
    "    start = time()\n",
    "    output_path = os.path.join(max_hv_dir, f\"{output_name}.pt\")\n",
    "    if os.path.exists(output_path):\n",
    "        raise FileExistsError\n",
    "    all_mvars = []\n",
    "    for p in os.listdir(max_hv_dir):\n",
    "        if f\"{problem}_mvar\" not in p:\n",
    "            continue\n",
    "        p_path = os.path.join(max_hv_dir, p)\n",
    "        if \"_nd.pt\" in p_path:\n",
    "            # These are non-dominated\n",
    "            mvars = torch.load(p_path)\n",
    "            all_mvars.append(mvars)\n",
    "            print(f\"Reading {p}, found {mvars.shape}. Time {time()-start}.\")\n",
    "        else:\n",
    "            # remove the non-dominated entries\n",
    "            mvars = torch.load(p_path)\n",
    "            print(f\"Reading {p}, found {mvars.shape}. Time {time()-start}.\")\n",
    "            mask = is_non_dominated(mvars)\n",
    "            print(f\"Number of dominated points: {(~mask).sum()}\")\n",
    "            all_mvars.append(mvars[mask])\n",
    "            # replace the file\n",
    "            torch.save(mvars[mask], f\"{p_path[:-3]}_nd.pt\")\n",
    "            os.remove(p_path)\n",
    "\n",
    "    all_mvars = torch.cat(all_mvars, dim=0)\n",
    "    mask = is_non_dominated(all_mvars)\n",
    "    all_mvars = all_mvars[mask]\n",
    "    print(f\"MVaRs found: {all_mvars.shape}.\")\n",
    "    torch.save(all_mvars, output_path)\n"
   ]
  },
  {
   "cell_type": "code",
   "execution_count": null,
   "outputs": [],
   "source": [
    "save_all_X(\"penicillin\", \"penicillin_Xs\")"
   ],
   "metadata": {
    "collapsed": false,
    "pycharm": {
     "name": "#%%\n"
    }
   }
  },
  {
   "cell_type": "code",
   "execution_count": null,
   "outputs": [],
   "source": [
    "save_all_X(\"gmm3\", \"gmm3_Xs\")"
   ],
   "metadata": {
    "collapsed": false,
    "pycharm": {
     "name": "#%%\n"
    }
   }
  },
  {
   "cell_type": "code",
   "execution_count": null,
   "outputs": [],
   "source": [
    "save_all_X(\"disc_brake\", \"disc_brake_Xs\")"
   ],
   "metadata": {
    "collapsed": false,
    "pycharm": {
     "name": "#%%\n"
    }
   }
  },
  {
   "cell_type": "code",
   "execution_count": null,
   "outputs": [],
   "source": [
    "save_all_X(\"bc_v2\", \"bc_v2_Xs\")"
   ],
   "metadata": {
    "collapsed": false,
    "pycharm": {
     "name": "#%%\n"
    }
   }
  },
  {
   "cell_type": "code",
   "execution_count": 2,
   "outputs": [
    {
     "name": "stderr",
     "output_type": "stream",
     "text": [
      "\n",
      "KeyboardInterrupt\n",
      "\n"
     ]
    }
   ],
   "source": [
    "get_hv_from_mvars(\"penicillin\")"
   ],
   "metadata": {
    "collapsed": false,
    "pycharm": {
     "name": "#%%\n"
    }
   }
  },
  {
   "cell_type": "code",
   "execution_count": 10,
   "outputs": [
    {
     "ename": "FileExistsError",
     "evalue": "",
     "output_type": "error",
     "traceback": [
      "\u001B[0;31m---------------------------------------------------------------------------\u001B[0m",
      "\u001B[0;31mFileExistsError\u001B[0m                           Traceback (most recent call last)",
      "\u001B[0;32m/var/folders/t3/xhtsf2011qndtzgvjdgdnylw0000gn/T/ipykernel_3982/1214909708.py\u001B[0m in \u001B[0;36m<module>\u001B[0;34m\u001B[0m\n\u001B[0;32m----> 1\u001B[0;31m \u001B[0mmerge_mvars\u001B[0m\u001B[0;34m(\u001B[0m\u001B[0;34m\"disc_brake\"\u001B[0m\u001B[0;34m,\u001B[0m \u001B[0;34m\"disc_brake_all_mvars\"\u001B[0m\u001B[0;34m)\u001B[0m\u001B[0;34m\u001B[0m\u001B[0;34m\u001B[0m\u001B[0m\n\u001B[0m\u001B[1;32m      2\u001B[0m \u001B[0;34m\u001B[0m\u001B[0m\n",
      "\u001B[0;32m/var/folders/t3/xhtsf2011qndtzgvjdgdnylw0000gn/T/ipykernel_3982/803890996.py\u001B[0m in \u001B[0;36mmerge_mvars\u001B[0;34m(problem, output_name)\u001B[0m\n\u001B[1;32m      7\u001B[0m     \u001B[0moutput_path\u001B[0m \u001B[0;34m=\u001B[0m \u001B[0mos\u001B[0m\u001B[0;34m.\u001B[0m\u001B[0mpath\u001B[0m\u001B[0;34m.\u001B[0m\u001B[0mjoin\u001B[0m\u001B[0;34m(\u001B[0m\u001B[0mmax_hv_dir\u001B[0m\u001B[0;34m,\u001B[0m \u001B[0;34mf\"{output_name}.pt\"\u001B[0m\u001B[0;34m)\u001B[0m\u001B[0;34m\u001B[0m\u001B[0;34m\u001B[0m\u001B[0m\n\u001B[1;32m      8\u001B[0m     \u001B[0;32mif\u001B[0m \u001B[0mos\u001B[0m\u001B[0;34m.\u001B[0m\u001B[0mpath\u001B[0m\u001B[0;34m.\u001B[0m\u001B[0mexists\u001B[0m\u001B[0;34m(\u001B[0m\u001B[0moutput_path\u001B[0m\u001B[0;34m)\u001B[0m\u001B[0;34m:\u001B[0m\u001B[0;34m\u001B[0m\u001B[0;34m\u001B[0m\u001B[0m\n\u001B[0;32m----> 9\u001B[0;31m         \u001B[0;32mraise\u001B[0m \u001B[0mFileExistsError\u001B[0m\u001B[0;34m\u001B[0m\u001B[0;34m\u001B[0m\u001B[0m\n\u001B[0m\u001B[1;32m     10\u001B[0m     \u001B[0mall_mvars\u001B[0m \u001B[0;34m=\u001B[0m \u001B[0;34m[\u001B[0m\u001B[0;34m]\u001B[0m\u001B[0;34m\u001B[0m\u001B[0;34m\u001B[0m\u001B[0m\n\u001B[1;32m     11\u001B[0m     \u001B[0;32mfor\u001B[0m \u001B[0mp\u001B[0m \u001B[0;32min\u001B[0m \u001B[0mos\u001B[0m\u001B[0;34m.\u001B[0m\u001B[0mlistdir\u001B[0m\u001B[0;34m(\u001B[0m\u001B[0mmax_hv_dir\u001B[0m\u001B[0;34m)\u001B[0m\u001B[0;34m:\u001B[0m\u001B[0;34m\u001B[0m\u001B[0;34m\u001B[0m\u001B[0m\n",
      "\u001B[0;31mFileExistsError\u001B[0m: "
     ]
    }
   ],
   "source": [
    "merge_mvars(\"disc_brake\", \"disc_brake_all_mvars\")"
   ],
   "metadata": {
    "collapsed": false,
    "pycharm": {
     "name": "#%%\n"
    }
   }
  },
  {
   "cell_type": "code",
   "execution_count": 12,
   "outputs": [
    {
     "ename": "FileExistsError",
     "evalue": "",
     "output_type": "error",
     "traceback": [
      "\u001B[0;31m---------------------------------------------------------------------------\u001B[0m",
      "\u001B[0;31mFileExistsError\u001B[0m                           Traceback (most recent call last)",
      "\u001B[0;32m/var/folders/t3/xhtsf2011qndtzgvjdgdnylw0000gn/T/ipykernel_3982/2006076533.py\u001B[0m in \u001B[0;36m<module>\u001B[0;34m\u001B[0m\n\u001B[0;32m----> 1\u001B[0;31m \u001B[0mmerge_mvars\u001B[0m\u001B[0;34m(\u001B[0m\u001B[0;34m\"bc_v2\"\u001B[0m\u001B[0;34m,\u001B[0m \u001B[0;34m\"bc_all_mvars\"\u001B[0m\u001B[0;34m)\u001B[0m\u001B[0;34m\u001B[0m\u001B[0;34m\u001B[0m\u001B[0m\n\u001B[0m",
      "\u001B[0;32m/var/folders/t3/xhtsf2011qndtzgvjdgdnylw0000gn/T/ipykernel_3982/803890996.py\u001B[0m in \u001B[0;36mmerge_mvars\u001B[0;34m(problem, output_name)\u001B[0m\n\u001B[1;32m      7\u001B[0m     \u001B[0moutput_path\u001B[0m \u001B[0;34m=\u001B[0m \u001B[0mos\u001B[0m\u001B[0;34m.\u001B[0m\u001B[0mpath\u001B[0m\u001B[0;34m.\u001B[0m\u001B[0mjoin\u001B[0m\u001B[0;34m(\u001B[0m\u001B[0mmax_hv_dir\u001B[0m\u001B[0;34m,\u001B[0m \u001B[0;34mf\"{output_name}.pt\"\u001B[0m\u001B[0;34m)\u001B[0m\u001B[0;34m\u001B[0m\u001B[0;34m\u001B[0m\u001B[0m\n\u001B[1;32m      8\u001B[0m     \u001B[0;32mif\u001B[0m \u001B[0mos\u001B[0m\u001B[0;34m.\u001B[0m\u001B[0mpath\u001B[0m\u001B[0;34m.\u001B[0m\u001B[0mexists\u001B[0m\u001B[0;34m(\u001B[0m\u001B[0moutput_path\u001B[0m\u001B[0;34m)\u001B[0m\u001B[0;34m:\u001B[0m\u001B[0;34m\u001B[0m\u001B[0;34m\u001B[0m\u001B[0m\n\u001B[0;32m----> 9\u001B[0;31m         \u001B[0;32mraise\u001B[0m \u001B[0mFileExistsError\u001B[0m\u001B[0;34m\u001B[0m\u001B[0;34m\u001B[0m\u001B[0m\n\u001B[0m\u001B[1;32m     10\u001B[0m     \u001B[0mall_mvars\u001B[0m \u001B[0;34m=\u001B[0m \u001B[0;34m[\u001B[0m\u001B[0;34m]\u001B[0m\u001B[0;34m\u001B[0m\u001B[0;34m\u001B[0m\u001B[0m\n\u001B[1;32m     11\u001B[0m     \u001B[0;32mfor\u001B[0m \u001B[0mp\u001B[0m \u001B[0;32min\u001B[0m \u001B[0mos\u001B[0m\u001B[0;34m.\u001B[0m\u001B[0mlistdir\u001B[0m\u001B[0;34m(\u001B[0m\u001B[0mmax_hv_dir\u001B[0m\u001B[0;34m)\u001B[0m\u001B[0;34m:\u001B[0m\u001B[0;34m\u001B[0m\u001B[0;34m\u001B[0m\u001B[0m\n",
      "\u001B[0;31mFileExistsError\u001B[0m: "
     ]
    }
   ],
   "source": [
    "merge_mvars(\"bc_v2\", \"bc_all_mvars\")"
   ],
   "metadata": {
    "collapsed": false,
    "pycharm": {
     "name": "#%%\n"
    }
   }
  },
  {
   "cell_type": "code",
   "execution_count": 9,
   "outputs": [
    {
     "name": "stdout",
     "output_type": "stream",
     "text": [
      "Reading bc_heteroskedastic_v2_mvar_10_nd.pt, found torch.Size([1268, 2]). Time 0.016989946365356445.\n",
      "Reading bc_heteroskedastic_v2_mvar_9_nd.pt, found torch.Size([1309, 2]). Time 0.017877817153930664.\n",
      "Reading bc_heteroskedastic_v2_mvar_12_nd.pt, found torch.Size([1248, 2]). Time 0.018306732177734375.\n",
      "Reading bc_heteroskedastic_v2_mvar_16_nd.pt, found torch.Size([956, 2]). Time 0.01866769790649414.\n",
      "Reading bc_heteroskedastic_v2_mvar_14_nd.pt, found torch.Size([1492, 2]). Time 0.01902484893798828.\n",
      "Reading bc_heteroskedastic_v2_mvar_13_nd.pt, found torch.Size([1376, 2]). Time 0.019310712814331055.\n",
      "Reading bc_heteroskedastic_v2_mvar_8_nd.pt, found torch.Size([1264, 2]). Time 0.019661664962768555.\n",
      "Reading bc_heteroskedastic_v2_mvar_11_nd.pt, found torch.Size([1207, 2]). Time 0.019940853118896484.\n",
      "Reading bc_heteroskedastic_v2_mvar_15_nd.pt, found torch.Size([1268, 2]). Time 0.02020883560180664.\n",
      "Reading bc_heteroskedastic_v2_mvar_17_nd.pt, found torch.Size([562, 2]). Time 0.020490646362304688.\n",
      "Reading bc_heteroskedastic_v2_mvar_2_nd.pt, found torch.Size([76, 2]). Time 0.020740747451782227.\n",
      "Reading bc_heteroskedastic_v2_mvar_0_nd.pt, found torch.Size([1, 2]). Time 0.020981788635253906.\n",
      "Reading bc_heteroskedastic_v2_mvar_4_nd.pt, found torch.Size([334, 2]). Time 0.02122974395751953.\n",
      "Reading bc_heteroskedastic_v2_mvar_6_nd.pt, found torch.Size([587, 2]). Time 0.02149200439453125.\n",
      "Reading bc_heteroskedastic_v2_mvar_1_nd.pt, found torch.Size([7, 2]). Time 0.021729707717895508.\n",
      "Reading bc_heteroskedastic_v2_mvar_18_nd.pt, found torch.Size([1, 2]). Time 0.02197098731994629.\n",
      "Reading bc_heteroskedastic_v2_mvar_3_nd.pt, found torch.Size([235, 2]). Time 0.022194862365722656.\n",
      "Reading bc_heteroskedastic_v2_mvar_7_nd.pt, found torch.Size([922, 2]). Time 0.022455692291259766.\n",
      "Reading bc_heteroskedastic_v2_mvar_5_nd.pt, found torch.Size([427, 2]). Time 0.022678852081298828.\n",
      "MVaRs found: torch.Size([1473, 2]).\n",
      "Reading gmm_corr_mvar_13_nd.pt, found torch.Size([420, 2]). Time 0.0006399154663085938.\n",
      "Reading gmm_corr_mvar_11_nd.pt, found torch.Size([495, 2]). Time 0.0009701251983642578.\n",
      "Reading gmm_corr_mvar_9_nd.pt, found torch.Size([50, 2]). Time 0.0014429092407226562.\n",
      "Reading gmm_corr_mvar_15_nd.pt, found torch.Size([204, 2]). Time 0.001760244369506836.\n",
      "Reading gmm_corr_mvar_17_nd.pt, found torch.Size([63, 2]). Time 0.0021228790283203125.\n",
      "Reading gmm_corr_mvar_8_nd.pt, found torch.Size([129, 2]). Time 0.0024538040161132812.\n",
      "Reading gmm_corr_mvar_10_nd.pt, found torch.Size([188, 2]). Time 0.0027191638946533203.\n",
      "Reading gmm_corr_mvar_12_nd.pt, found torch.Size([589, 2]). Time 0.002980947494506836.\n",
      "Reading gmm_corr_mvar_16_nd.pt, found torch.Size([186, 2]). Time 0.003236055374145508.\n",
      "Reading gmm_corr_mvar_14_nd.pt, found torch.Size([146, 2]). Time 0.003487110137939453.\n",
      "Reading gmm_corr_mvar_0_nd.pt, found torch.Size([70, 2]). Time 0.0037860870361328125.\n",
      "Reading gmm_corr_mvar_2_nd.pt, found torch.Size([240, 2]). Time 0.004106044769287109.\n",
      "Reading gmm_corr_mvar_6_nd.pt, found torch.Size([328, 2]). Time 0.004396915435791016.\n",
      "Reading gmm_corr_mvar_4_nd.pt, found torch.Size([249, 2]). Time 0.004673957824707031.\n",
      "Reading gmm_corr_mvar_3_nd.pt, found torch.Size([251, 2]). Time 0.0049839019775390625.\n",
      "Reading gmm_corr_mvar_1_nd.pt, found torch.Size([193, 2]). Time 0.005285024642944336.\n",
      "Reading gmm_corr_mvar_5_nd.pt, found torch.Size([299, 2]). Time 0.005567789077758789.\n",
      "Reading gmm_corr_mvar_7_nd.pt, found torch.Size([221, 2]). Time 0.005843162536621094.\n",
      "MVaRs found: torch.Size([700, 2]).\n",
      "Reading gmm_mul_mvar_8_nd.pt, found torch.Size([166, 2]). Time 0.0005390644073486328.\n",
      "Reading gmm_mul_mvar_9_nd.pt, found torch.Size([157, 2]). Time 0.0009639263153076172.\n",
      "Reading gmm_mul_mvar_3_nd.pt, found torch.Size([134, 2]). Time 0.0012700557708740234.\n",
      "Reading gmm_mul_mvar_12_nd.pt, found torch.Size([74, 2]). Time 0.0015289783477783203.\n",
      "Reading gmm_mul_mvar_10_nd.pt, found torch.Size([143, 2]). Time 0.0018000602722167969.\n",
      "Reading gmm_mul_mvar_1_nd.pt, found torch.Size([22, 2]). Time 0.0020618438720703125.\n",
      "Reading gmm_mul_mvar_5_nd.pt, found torch.Size([103, 2]). Time 0.0023288726806640625.\n",
      "Reading gmm_mul_mvar_14_nd.pt, found torch.Size([61, 2]). Time 0.0025789737701416016.\n",
      "Reading gmm_mul_mvar_16_nd.pt, found torch.Size([50, 2]). Time 0.0028281211853027344.\n",
      "Reading gmm_mul_mvar_7_nd.pt, found torch.Size([77, 2]). Time 0.003074169158935547.\n",
      "Reading gmm_mul_mvar_11_nd.pt, found torch.Size([72, 2]). Time 0.003274202346801758.\n",
      "Reading gmm_mul_mvar_0_nd.pt, found torch.Size([42, 2]). Time 0.0035212039947509766.\n",
      "Reading gmm_mul_mvar_2_nd.pt, found torch.Size([135, 2]). Time 0.003771066665649414.\n",
      "Reading gmm_mul_mvar_13_nd.pt, found torch.Size([77, 2]). Time 0.004021167755126953.\n",
      "Reading gmm_mul_mvar_6_nd.pt, found torch.Size([14, 2]). Time 0.004264116287231445.\n",
      "Reading gmm_mul_mvar_4_nd.pt, found torch.Size([194, 2]). Time 0.004536867141723633.\n",
      "Reading gmm_mul_mvar_15_nd.pt, found torch.Size([34, 2]). Time 0.00477290153503418.\n",
      "MVaRs found: torch.Size([259, 2]).\n"
     ]
    }
   ],
   "source": [
    "merge_mvars(\"bc_heteroskedastic_v2\", \"bc_heteroskedastic_v2_all_mvars\")\n",
    "merge_mvars(\"gmm_corr\", \"gmm_corr_all_mvars\")\n",
    "merge_mvars(\"gmm_mul\", \"gmm_mul_all_mvars\")"
   ],
   "metadata": {
    "collapsed": false,
    "pycharm": {
     "name": "#%%\n"
    }
   }
  },
  {
   "cell_type": "code",
   "execution_count": 13,
   "outputs": [
    {
     "ename": "FileExistsError",
     "evalue": "",
     "output_type": "error",
     "traceback": [
      "\u001B[0;31m---------------------------------------------------------------------------\u001B[0m",
      "\u001B[0;31mFileExistsError\u001B[0m                           Traceback (most recent call last)",
      "\u001B[0;32m/var/folders/t3/xhtsf2011qndtzgvjdgdnylw0000gn/T/ipykernel_16422/1145219009.py\u001B[0m in \u001B[0;36m<module>\u001B[0;34m\u001B[0m\n\u001B[0;32m----> 1\u001B[0;31m \u001B[0mget_hv_from_mvars\u001B[0m\u001B[0;34m(\u001B[0m\u001B[0;34m\"bc_heteroskedastic_v2\"\u001B[0m\u001B[0;34m)\u001B[0m\u001B[0;34m\u001B[0m\u001B[0;34m\u001B[0m\u001B[0m\n\u001B[0m\u001B[1;32m      2\u001B[0m \u001B[0mget_hv_from_mvars\u001B[0m\u001B[0;34m(\u001B[0m\u001B[0;34m\"gmm_corr\"\u001B[0m\u001B[0;34m)\u001B[0m\u001B[0;34m\u001B[0m\u001B[0;34m\u001B[0m\u001B[0m\n\u001B[1;32m      3\u001B[0m \u001B[0mget_hv_from_mvars\u001B[0m\u001B[0;34m(\u001B[0m\u001B[0;34m\"gmm_mul\"\u001B[0m\u001B[0;34m)\u001B[0m\u001B[0;34m\u001B[0m\u001B[0;34m\u001B[0m\u001B[0m\n\u001B[1;32m      4\u001B[0m \u001B[0;34m\u001B[0m\u001B[0m\n",
      "\u001B[0;32m~/PycharmProjects/robust_mobo/notebooks/get_hv_from_mvars.py\u001B[0m in \u001B[0;36mget_hv_from_mvars\u001B[0;34m(problem, output_name, device)\u001B[0m\n\u001B[1;32m     14\u001B[0m     \u001B[0moutput_path\u001B[0m \u001B[0;34m=\u001B[0m \u001B[0mos\u001B[0m\u001B[0;34m.\u001B[0m\u001B[0mpath\u001B[0m\u001B[0;34m.\u001B[0m\u001B[0mjoin\u001B[0m\u001B[0;34m(\u001B[0m\u001B[0mmax_hv_dir\u001B[0m\u001B[0;34m,\u001B[0m \u001B[0;34mf\"{output_name}.pt\"\u001B[0m\u001B[0;34m)\u001B[0m\u001B[0;34m\u001B[0m\u001B[0;34m\u001B[0m\u001B[0m\n\u001B[1;32m     15\u001B[0m     \u001B[0;32mif\u001B[0m \u001B[0mos\u001B[0m\u001B[0;34m.\u001B[0m\u001B[0mpath\u001B[0m\u001B[0;34m.\u001B[0m\u001B[0mexists\u001B[0m\u001B[0;34m(\u001B[0m\u001B[0moutput_path\u001B[0m\u001B[0;34m)\u001B[0m\u001B[0;34m:\u001B[0m\u001B[0;34m\u001B[0m\u001B[0;34m\u001B[0m\u001B[0m\n\u001B[0;32m---> 16\u001B[0;31m         \u001B[0;32mraise\u001B[0m \u001B[0mFileExistsError\u001B[0m\u001B[0;34m\u001B[0m\u001B[0;34m\u001B[0m\u001B[0m\n\u001B[0m\u001B[1;32m     17\u001B[0m     \u001B[0mall_mvars\u001B[0m \u001B[0;34m=\u001B[0m \u001B[0;34m[\u001B[0m\u001B[0;34m]\u001B[0m\u001B[0;34m\u001B[0m\u001B[0;34m\u001B[0m\u001B[0m\n\u001B[1;32m     18\u001B[0m     \u001B[0;32mfor\u001B[0m \u001B[0mp\u001B[0m \u001B[0;32min\u001B[0m \u001B[0mos\u001B[0m\u001B[0;34m.\u001B[0m\u001B[0mlistdir\u001B[0m\u001B[0;34m(\u001B[0m\u001B[0mmax_hv_dir\u001B[0m\u001B[0;34m)\u001B[0m\u001B[0;34m:\u001B[0m\u001B[0;34m\u001B[0m\u001B[0;34m\u001B[0m\u001B[0m\n",
      "\u001B[0;31mFileExistsError\u001B[0m: "
     ]
    }
   ],
   "source": [
    "get_hv_from_mvars(\"bc_heteroskedastic_v2\")\n",
    "get_hv_from_mvars(\"gmm_corr\")\n",
    "get_hv_from_mvars(\"gmm_mul\")"
   ],
   "metadata": {
    "collapsed": false,
    "pycharm": {
     "name": "#%%\n"
    }
   }
  },
  {
   "cell_type": "code",
   "execution_count": 14,
   "outputs": [
    {
     "ename": "FileExistsError",
     "evalue": "",
     "output_type": "error",
     "traceback": [
      "\u001B[0;31m---------------------------------------------------------------------------\u001B[0m",
      "\u001B[0;31mFileExistsError\u001B[0m                           Traceback (most recent call last)",
      "\u001B[0;32m/var/folders/t3/xhtsf2011qndtzgvjdgdnylw0000gn/T/ipykernel_16422/1824209394.py\u001B[0m in \u001B[0;36m<module>\u001B[0;34m\u001B[0m\n\u001B[0;32m----> 1\u001B[0;31m \u001B[0mget_hv_from_mvars\u001B[0m\u001B[0;34m(\u001B[0m\u001B[0;34m\"gmm_mul\"\u001B[0m\u001B[0;34m)\u001B[0m\u001B[0;34m\u001B[0m\u001B[0;34m\u001B[0m\u001B[0m\n\u001B[0m\u001B[1;32m      2\u001B[0m \u001B[0;34m\u001B[0m\u001B[0m\n",
      "\u001B[0;32m~/PycharmProjects/robust_mobo/notebooks/get_hv_from_mvars.py\u001B[0m in \u001B[0;36mget_hv_from_mvars\u001B[0;34m(problem, output_name, device)\u001B[0m\n\u001B[1;32m     14\u001B[0m     \u001B[0moutput_path\u001B[0m \u001B[0;34m=\u001B[0m \u001B[0mos\u001B[0m\u001B[0;34m.\u001B[0m\u001B[0mpath\u001B[0m\u001B[0;34m.\u001B[0m\u001B[0mjoin\u001B[0m\u001B[0;34m(\u001B[0m\u001B[0mmax_hv_dir\u001B[0m\u001B[0;34m,\u001B[0m \u001B[0;34mf\"{output_name}.pt\"\u001B[0m\u001B[0;34m)\u001B[0m\u001B[0;34m\u001B[0m\u001B[0;34m\u001B[0m\u001B[0m\n\u001B[1;32m     15\u001B[0m     \u001B[0;32mif\u001B[0m \u001B[0mos\u001B[0m\u001B[0;34m.\u001B[0m\u001B[0mpath\u001B[0m\u001B[0;34m.\u001B[0m\u001B[0mexists\u001B[0m\u001B[0;34m(\u001B[0m\u001B[0moutput_path\u001B[0m\u001B[0;34m)\u001B[0m\u001B[0;34m:\u001B[0m\u001B[0;34m\u001B[0m\u001B[0;34m\u001B[0m\u001B[0m\n\u001B[0;32m---> 16\u001B[0;31m         \u001B[0;32mraise\u001B[0m \u001B[0mFileExistsError\u001B[0m\u001B[0;34m\u001B[0m\u001B[0;34m\u001B[0m\u001B[0m\n\u001B[0m\u001B[1;32m     17\u001B[0m     \u001B[0mall_mvars\u001B[0m \u001B[0;34m=\u001B[0m \u001B[0;34m[\u001B[0m\u001B[0;34m]\u001B[0m\u001B[0;34m\u001B[0m\u001B[0;34m\u001B[0m\u001B[0m\n\u001B[1;32m     18\u001B[0m     \u001B[0;32mfor\u001B[0m \u001B[0mp\u001B[0m \u001B[0;32min\u001B[0m \u001B[0mos\u001B[0m\u001B[0;34m.\u001B[0m\u001B[0mlistdir\u001B[0m\u001B[0;34m(\u001B[0m\u001B[0mmax_hv_dir\u001B[0m\u001B[0;34m)\u001B[0m\u001B[0;34m:\u001B[0m\u001B[0;34m\u001B[0m\u001B[0;34m\u001B[0m\u001B[0m\n",
      "\u001B[0;31mFileExistsError\u001B[0m: "
     ]
    }
   ],
   "source": [
    "get_hv_from_mvars(\"gmm_mul\")"
   ],
   "metadata": {
    "collapsed": false,
    "pycharm": {
     "name": "#%%\n"
    }
   }
  },
  {
   "cell_type": "code",
   "execution_count": 5,
   "outputs": [
    {
     "name": "stdout",
     "output_type": "stream",
     "text": [
      "torch.Size([17880, 2])\n"
     ]
    },
    {
     "ename": "FileExistsError",
     "evalue": "",
     "output_type": "error",
     "traceback": [
      "\u001B[0;31m---------------------------------------------------------------------------\u001B[0m",
      "\u001B[0;31mFileExistsError\u001B[0m                           Traceback (most recent call last)",
      "\u001B[0;32m/var/folders/t3/xhtsf2011qndtzgvjdgdnylw0000gn/T/ipykernel_41243/2950152439.py\u001B[0m in \u001B[0;36m<module>\u001B[0;34m\u001B[0m\n\u001B[0;32m----> 1\u001B[0;31m \u001B[0msave_all_X\u001B[0m\u001B[0;34m(\u001B[0m\u001B[0;34m\"gmm3_07\"\u001B[0m\u001B[0;34m,\u001B[0m \u001B[0;34m\"gmm3_07_Xs\"\u001B[0m\u001B[0;34m)\u001B[0m\u001B[0;34m\u001B[0m\u001B[0;34m\u001B[0m\u001B[0m\n\u001B[0m\u001B[1;32m      2\u001B[0m \u001B[0;34m\u001B[0m\u001B[0m\n\u001B[1;32m      3\u001B[0m \u001B[0msave_all_X\u001B[0m\u001B[0;34m(\u001B[0m\u001B[0;34m\"gmm3_08\"\u001B[0m\u001B[0;34m,\u001B[0m \u001B[0;34m\"gmm3_08_Xs\"\u001B[0m\u001B[0;34m)\u001B[0m\u001B[0;34m\u001B[0m\u001B[0;34m\u001B[0m\u001B[0m\n\u001B[1;32m      4\u001B[0m \u001B[0;34m\u001B[0m\u001B[0m\n",
      "\u001B[0;32m/var/folders/t3/xhtsf2011qndtzgvjdgdnylw0000gn/T/ipykernel_41243/358472922.py\u001B[0m in \u001B[0;36msave_all_X\u001B[0;34m(problem, output_name)\u001B[0m\n\u001B[1;32m     24\u001B[0m     \u001B[0moutput_path\u001B[0m \u001B[0;34m=\u001B[0m \u001B[0mos\u001B[0m\u001B[0;34m.\u001B[0m\u001B[0mpath\u001B[0m\u001B[0;34m.\u001B[0m\u001B[0mjoin\u001B[0m\u001B[0;34m(\u001B[0m\u001B[0mmax_hv_dir\u001B[0m\u001B[0;34m,\u001B[0m \u001B[0;34mf\"{output_name}.pt\"\u001B[0m\u001B[0;34m)\u001B[0m\u001B[0;34m\u001B[0m\u001B[0;34m\u001B[0m\u001B[0m\n\u001B[1;32m     25\u001B[0m     \u001B[0;32mif\u001B[0m \u001B[0mos\u001B[0m\u001B[0;34m.\u001B[0m\u001B[0mpath\u001B[0m\u001B[0;34m.\u001B[0m\u001B[0mexists\u001B[0m\u001B[0;34m(\u001B[0m\u001B[0moutput_path\u001B[0m\u001B[0;34m)\u001B[0m\u001B[0;34m:\u001B[0m\u001B[0;34m\u001B[0m\u001B[0;34m\u001B[0m\u001B[0m\n\u001B[0;32m---> 26\u001B[0;31m         \u001B[0;32mraise\u001B[0m \u001B[0mFileExistsError\u001B[0m\u001B[0;34m\u001B[0m\u001B[0;34m\u001B[0m\u001B[0m\n\u001B[0m\u001B[1;32m     27\u001B[0m     \u001B[0mtorch\u001B[0m\u001B[0;34m.\u001B[0m\u001B[0msave\u001B[0m\u001B[0;34m(\u001B[0m\u001B[0;34m{\u001B[0m\u001B[0;34m\"all_Xs\"\u001B[0m\u001B[0;34m:\u001B[0m \u001B[0mall_Xs\u001B[0m\u001B[0;34m}\u001B[0m\u001B[0;34m,\u001B[0m \u001B[0moutput_path\u001B[0m\u001B[0;34m)\u001B[0m\u001B[0;34m\u001B[0m\u001B[0;34m\u001B[0m\u001B[0m\n\u001B[1;32m     28\u001B[0m \u001B[0;34m\u001B[0m\u001B[0m\n",
      "\u001B[0;31mFileExistsError\u001B[0m: "
     ]
    }
   ],
   "source": [
    "save_all_X(\"gmm3_07\", \"gmm3_07_Xs\")"
   ],
   "metadata": {
    "collapsed": false,
    "pycharm": {
     "name": "#%%\n"
    }
   }
  },
  {
   "cell_type": "code",
   "execution_count": 6,
   "outputs": [
    {
     "name": "stdout",
     "output_type": "stream",
     "text": [
      "torch.Size([17893, 2])\n"
     ]
    },
    {
     "ename": "FileExistsError",
     "evalue": "",
     "output_type": "error",
     "traceback": [
      "\u001B[0;31m---------------------------------------------------------------------------\u001B[0m",
      "\u001B[0;31mFileExistsError\u001B[0m                           Traceback (most recent call last)",
      "\u001B[0;32m/var/folders/t3/xhtsf2011qndtzgvjdgdnylw0000gn/T/ipykernel_41243/1481079811.py\u001B[0m in \u001B[0;36m<module>\u001B[0;34m\u001B[0m\n\u001B[0;32m----> 1\u001B[0;31m \u001B[0msave_all_X\u001B[0m\u001B[0;34m(\u001B[0m\u001B[0;34m\"gmm3_08\"\u001B[0m\u001B[0;34m,\u001B[0m \u001B[0;34m\"gmm3_08_Xs\"\u001B[0m\u001B[0;34m)\u001B[0m\u001B[0;34m\u001B[0m\u001B[0;34m\u001B[0m\u001B[0m\n\u001B[0m\u001B[1;32m      2\u001B[0m \u001B[0;34m\u001B[0m\u001B[0m\n",
      "\u001B[0;32m/var/folders/t3/xhtsf2011qndtzgvjdgdnylw0000gn/T/ipykernel_41243/358472922.py\u001B[0m in \u001B[0;36msave_all_X\u001B[0;34m(problem, output_name)\u001B[0m\n\u001B[1;32m     24\u001B[0m     \u001B[0moutput_path\u001B[0m \u001B[0;34m=\u001B[0m \u001B[0mos\u001B[0m\u001B[0;34m.\u001B[0m\u001B[0mpath\u001B[0m\u001B[0;34m.\u001B[0m\u001B[0mjoin\u001B[0m\u001B[0;34m(\u001B[0m\u001B[0mmax_hv_dir\u001B[0m\u001B[0;34m,\u001B[0m \u001B[0;34mf\"{output_name}.pt\"\u001B[0m\u001B[0;34m)\u001B[0m\u001B[0;34m\u001B[0m\u001B[0;34m\u001B[0m\u001B[0m\n\u001B[1;32m     25\u001B[0m     \u001B[0;32mif\u001B[0m \u001B[0mos\u001B[0m\u001B[0;34m.\u001B[0m\u001B[0mpath\u001B[0m\u001B[0;34m.\u001B[0m\u001B[0mexists\u001B[0m\u001B[0;34m(\u001B[0m\u001B[0moutput_path\u001B[0m\u001B[0;34m)\u001B[0m\u001B[0;34m:\u001B[0m\u001B[0;34m\u001B[0m\u001B[0;34m\u001B[0m\u001B[0m\n\u001B[0;32m---> 26\u001B[0;31m         \u001B[0;32mraise\u001B[0m \u001B[0mFileExistsError\u001B[0m\u001B[0;34m\u001B[0m\u001B[0;34m\u001B[0m\u001B[0m\n\u001B[0m\u001B[1;32m     27\u001B[0m     \u001B[0mtorch\u001B[0m\u001B[0;34m.\u001B[0m\u001B[0msave\u001B[0m\u001B[0;34m(\u001B[0m\u001B[0;34m{\u001B[0m\u001B[0;34m\"all_Xs\"\u001B[0m\u001B[0;34m:\u001B[0m \u001B[0mall_Xs\u001B[0m\u001B[0;34m}\u001B[0m\u001B[0;34m,\u001B[0m \u001B[0moutput_path\u001B[0m\u001B[0;34m)\u001B[0m\u001B[0;34m\u001B[0m\u001B[0;34m\u001B[0m\u001B[0m\n\u001B[1;32m     28\u001B[0m \u001B[0;34m\u001B[0m\u001B[0m\n",
      "\u001B[0;31mFileExistsError\u001B[0m: "
     ]
    }
   ],
   "source": [
    "save_all_X(\"gmm3_08\", \"gmm3_08_Xs\")"
   ],
   "metadata": {
    "collapsed": false,
    "pycharm": {
     "name": "#%%\n"
    }
   }
  },
  {
   "cell_type": "code",
   "execution_count": 7,
   "outputs": [
    {
     "name": "stdout",
     "output_type": "stream",
     "text": [
      "Reading gmm3_07_mvar_0_nd.pt, found torch.Size([997, 3]). Time 0.022750139236450195.\n",
      "Reading gmm3_07_mvar_10_nd.pt, found torch.Size([12688, 3]). Time 0.024882078170776367.\n",
      "Reading gmm3_07_mvar_12_nd.pt, found torch.Size([2988, 3]). Time 0.02608799934387207.\n",
      "Reading gmm3_07_mvar_2_nd.pt, found torch.Size([6583, 3]). Time 0.02745985984802246.\n",
      "Reading gmm3_07_mvar_6_nd.pt, found torch.Size([611, 3]). Time 0.02832198143005371.\n",
      "Reading gmm3_07_mvar_16_nd.pt, found torch.Size([5275, 3]). Time 0.030073881149291992.\n",
      "Reading gmm3_07_mvar_14_nd.pt, found torch.Size([2907, 3]). Time 0.03130793571472168.\n",
      "Reading gmm3_07_mvar_4_nd.pt, found torch.Size([4885, 3]). Time 0.03219008445739746.\n",
      "Reading gmm3_07_mvar_13_nd.pt, found torch.Size([988, 3]). Time 0.032933950424194336.\n",
      "Reading gmm3_07_mvar_3_nd.pt, found torch.Size([7349, 3]). Time 0.034967899322509766.\n",
      "Reading gmm3_07_mvar_1_nd.pt, found torch.Size([4379, 3]). Time 0.03667116165161133.\n",
      "Reading gmm3_07_mvar_11_nd.pt, found torch.Size([7207, 3]). Time 0.037917137145996094.\n",
      "Reading gmm3_07_mvar_15_nd.pt, found torch.Size([9540, 3]). Time 0.03933286666870117.\n",
      "Reading gmm3_07_mvar_5_nd.pt, found torch.Size([2029, 3]). Time 0.040585994720458984.\n",
      "Reading gmm3_07_mvar_7_nd.pt, found torch.Size([2834, 3]). Time 0.04196786880493164.\n",
      "Reading gmm3_07_mvar_17_nd.pt, found torch.Size([384, 3]). Time 0.04268193244934082.\n",
      "Reading gmm3_07_mvar_9_nd.pt, found torch.Size([13310, 3]). Time 0.04396200180053711.\n",
      "Reading gmm3_07_mvar_8_nd.pt, found torch.Size([7353, 3]). Time 0.04502701759338379.\n",
      "MVaRs found: torch.Size([23015, 3]).\n"
     ]
    }
   ],
   "source": [
    "merge_mvars(\"gmm3_07\", \"gmm3_07_all_mvars\")"
   ],
   "metadata": {
    "collapsed": false,
    "pycharm": {
     "name": "#%%\n"
    }
   }
  },
  {
   "cell_type": "code",
   "execution_count": 8,
   "outputs": [
    {
     "name": "stdout",
     "output_type": "stream",
     "text": [
      "Reading gmm3_08_mvar_9_nd.pt, found torch.Size([7530, 3]). Time 0.005448818206787109.\n",
      "Reading gmm3_08_mvar_8_nd.pt, found torch.Size([3375, 3]). Time 0.0068819522857666016.\n",
      "Reading gmm3_08_mvar_2_nd.pt, found torch.Size([4166, 3]). Time 0.00781702995300293.\n",
      "Reading gmm3_08_mvar_12_nd.pt, found torch.Size([3118, 3]). Time 0.008753061294555664.\n",
      "Reading gmm3_08_mvar_10_nd.pt, found torch.Size([9930, 3]). Time 0.009877920150756836.\n",
      "Reading gmm3_08_mvar_0_nd.pt, found torch.Size([716, 3]). Time 0.01052403450012207.\n",
      "Reading gmm3_08_mvar_4_nd.pt, found torch.Size([4316, 3]). Time 0.011261940002441406.\n",
      "Reading gmm3_08_mvar_14_nd.pt, found torch.Size([2253, 3]). Time 0.01194906234741211.\n",
      "Reading gmm3_08_mvar_16_nd.pt, found torch.Size([4295, 3]). Time 0.012696981430053711.\n",
      "Reading gmm3_08_mvar_6_nd.pt, found torch.Size([914, 3]). Time 0.013309955596923828.\n",
      "Reading gmm3_08_mvar_11_nd.pt, found torch.Size([7737, 3]). Time 0.014158964157104492.\n",
      "Reading gmm3_08_mvar_1_nd.pt, found torch.Size([2536, 3]). Time 0.015049934387207031.\n",
      "Reading gmm3_08_mvar_3_nd.pt, found torch.Size([5243, 3]). Time 0.015893936157226562.\n",
      "Reading gmm3_08_mvar_13_nd.pt, found torch.Size([935, 3]). Time 0.016351938247680664.\n",
      "Reading gmm3_08_mvar_17_nd.pt, found torch.Size([332, 3]). Time 0.016695022583007812.\n",
      "Reading gmm3_08_mvar_7_nd.pt, found torch.Size([595, 3]). Time 0.017083168029785156.\n",
      "Reading gmm3_08_mvar_5_nd.pt, found torch.Size([1877, 3]). Time 0.017750978469848633.\n",
      "Reading gmm3_08_mvar_15_nd.pt, found torch.Size([8430, 3]). Time 0.018566131591796875.\n",
      "MVaRs found: torch.Size([9767, 3]).\n"
     ]
    }
   ],
   "source": [
    "merge_mvars(\"gmm3_08\", \"gmm3_08_all_mvars\")"
   ],
   "metadata": {
    "collapsed": false,
    "pycharm": {
     "name": "#%%\n"
    }
   }
  },
  {
   "cell_type": "code",
   "execution_count": 4,
   "outputs": [
    {
     "ename": "FileExistsError",
     "evalue": "",
     "output_type": "error",
     "traceback": [
      "\u001B[0;31m---------------------------------------------------------------------------\u001B[0m",
      "\u001B[0;31mFileExistsError\u001B[0m                           Traceback (most recent call last)",
      "\u001B[0;32m/var/folders/t3/xhtsf2011qndtzgvjdgdnylw0000gn/T/ipykernel_43054/2360133481.py\u001B[0m in \u001B[0;36m<module>\u001B[0;34m\u001B[0m\n\u001B[0;32m----> 1\u001B[0;31m \u001B[0mget_hv_from_mvars\u001B[0m\u001B[0;34m(\u001B[0m\u001B[0;34m\"gmm3_07\"\u001B[0m\u001B[0;34m)\u001B[0m\u001B[0;34m\u001B[0m\u001B[0;34m\u001B[0m\u001B[0m\n\u001B[0m\u001B[1;32m      2\u001B[0m \u001B[0;34m\u001B[0m\u001B[0m\n",
      "\u001B[0;32m~/PycharmProjects/robust_mobo/notebooks/get_hv_from_mvars.py\u001B[0m in \u001B[0;36mget_hv_from_mvars\u001B[0;34m(problem, output_name, device)\u001B[0m\n\u001B[1;32m     14\u001B[0m     \u001B[0moutput_path\u001B[0m \u001B[0;34m=\u001B[0m \u001B[0mos\u001B[0m\u001B[0;34m.\u001B[0m\u001B[0mpath\u001B[0m\u001B[0;34m.\u001B[0m\u001B[0mjoin\u001B[0m\u001B[0;34m(\u001B[0m\u001B[0mmax_hv_dir\u001B[0m\u001B[0;34m,\u001B[0m \u001B[0;34mf\"{output_name}.pt\"\u001B[0m\u001B[0;34m)\u001B[0m\u001B[0;34m\u001B[0m\u001B[0;34m\u001B[0m\u001B[0m\n\u001B[1;32m     15\u001B[0m     \u001B[0;32mif\u001B[0m \u001B[0mos\u001B[0m\u001B[0;34m.\u001B[0m\u001B[0mpath\u001B[0m\u001B[0;34m.\u001B[0m\u001B[0mexists\u001B[0m\u001B[0;34m(\u001B[0m\u001B[0moutput_path\u001B[0m\u001B[0;34m)\u001B[0m\u001B[0;34m:\u001B[0m\u001B[0;34m\u001B[0m\u001B[0;34m\u001B[0m\u001B[0m\n\u001B[0;32m---> 16\u001B[0;31m         \u001B[0;32mraise\u001B[0m \u001B[0mFileExistsError\u001B[0m\u001B[0;34m\u001B[0m\u001B[0;34m\u001B[0m\u001B[0m\n\u001B[0m\u001B[1;32m     17\u001B[0m     \u001B[0mall_mvar_path\u001B[0m \u001B[0;34m=\u001B[0m \u001B[0mos\u001B[0m\u001B[0;34m.\u001B[0m\u001B[0mpath\u001B[0m\u001B[0;34m.\u001B[0m\u001B[0mjoin\u001B[0m\u001B[0;34m(\u001B[0m\u001B[0mmax_hv_dir\u001B[0m\u001B[0;34m,\u001B[0m \u001B[0;34mf\"{output_name}_all_mvars.pt\"\u001B[0m\u001B[0;34m)\u001B[0m\u001B[0;34m\u001B[0m\u001B[0;34m\u001B[0m\u001B[0m\n\u001B[1;32m     18\u001B[0m     \u001B[0;32mif\u001B[0m \u001B[0mos\u001B[0m\u001B[0;34m.\u001B[0m\u001B[0mpath\u001B[0m\u001B[0;34m.\u001B[0m\u001B[0mexists\u001B[0m\u001B[0;34m(\u001B[0m\u001B[0mall_mvar_path\u001B[0m\u001B[0;34m)\u001B[0m\u001B[0;34m:\u001B[0m\u001B[0;34m\u001B[0m\u001B[0;34m\u001B[0m\u001B[0m\n",
      "\u001B[0;31mFileExistsError\u001B[0m: "
     ]
    }
   ],
   "source": [
    "get_hv_from_mvars(\"gmm3_07\")"
   ],
   "metadata": {
    "collapsed": false,
    "pycharm": {
     "name": "#%%\n"
    }
   }
  },
  {
   "cell_type": "code",
   "execution_count": 5,
   "outputs": [
    {
     "ename": "FileExistsError",
     "evalue": "",
     "output_type": "error",
     "traceback": [
      "\u001B[0;31m---------------------------------------------------------------------------\u001B[0m",
      "\u001B[0;31mFileExistsError\u001B[0m                           Traceback (most recent call last)",
      "\u001B[0;32m/var/folders/t3/xhtsf2011qndtzgvjdgdnylw0000gn/T/ipykernel_43054/649427754.py\u001B[0m in \u001B[0;36m<module>\u001B[0;34m\u001B[0m\n\u001B[0;32m----> 1\u001B[0;31m \u001B[0mget_hv_from_mvars\u001B[0m\u001B[0;34m(\u001B[0m\u001B[0;34m\"gmm3_08\"\u001B[0m\u001B[0;34m)\u001B[0m\u001B[0;34m\u001B[0m\u001B[0;34m\u001B[0m\u001B[0m\n\u001B[0m\u001B[1;32m      2\u001B[0m \u001B[0;34m\u001B[0m\u001B[0m\n",
      "\u001B[0;32m~/PycharmProjects/robust_mobo/notebooks/get_hv_from_mvars.py\u001B[0m in \u001B[0;36mget_hv_from_mvars\u001B[0;34m(problem, output_name, device)\u001B[0m\n\u001B[1;32m     14\u001B[0m     \u001B[0moutput_path\u001B[0m \u001B[0;34m=\u001B[0m \u001B[0mos\u001B[0m\u001B[0;34m.\u001B[0m\u001B[0mpath\u001B[0m\u001B[0;34m.\u001B[0m\u001B[0mjoin\u001B[0m\u001B[0;34m(\u001B[0m\u001B[0mmax_hv_dir\u001B[0m\u001B[0;34m,\u001B[0m \u001B[0;34mf\"{output_name}.pt\"\u001B[0m\u001B[0;34m)\u001B[0m\u001B[0;34m\u001B[0m\u001B[0;34m\u001B[0m\u001B[0m\n\u001B[1;32m     15\u001B[0m     \u001B[0;32mif\u001B[0m \u001B[0mos\u001B[0m\u001B[0;34m.\u001B[0m\u001B[0mpath\u001B[0m\u001B[0;34m.\u001B[0m\u001B[0mexists\u001B[0m\u001B[0;34m(\u001B[0m\u001B[0moutput_path\u001B[0m\u001B[0;34m)\u001B[0m\u001B[0;34m:\u001B[0m\u001B[0;34m\u001B[0m\u001B[0;34m\u001B[0m\u001B[0m\n\u001B[0;32m---> 16\u001B[0;31m         \u001B[0;32mraise\u001B[0m \u001B[0mFileExistsError\u001B[0m\u001B[0;34m\u001B[0m\u001B[0;34m\u001B[0m\u001B[0m\n\u001B[0m\u001B[1;32m     17\u001B[0m     \u001B[0mall_mvar_path\u001B[0m \u001B[0;34m=\u001B[0m \u001B[0mos\u001B[0m\u001B[0;34m.\u001B[0m\u001B[0mpath\u001B[0m\u001B[0;34m.\u001B[0m\u001B[0mjoin\u001B[0m\u001B[0;34m(\u001B[0m\u001B[0mmax_hv_dir\u001B[0m\u001B[0;34m,\u001B[0m \u001B[0;34mf\"{output_name}_all_mvars.pt\"\u001B[0m\u001B[0;34m)\u001B[0m\u001B[0;34m\u001B[0m\u001B[0;34m\u001B[0m\u001B[0m\n\u001B[1;32m     18\u001B[0m     \u001B[0;32mif\u001B[0m \u001B[0mos\u001B[0m\u001B[0;34m.\u001B[0m\u001B[0mpath\u001B[0m\u001B[0;34m.\u001B[0m\u001B[0mexists\u001B[0m\u001B[0;34m(\u001B[0m\u001B[0mall_mvar_path\u001B[0m\u001B[0;34m)\u001B[0m\u001B[0;34m:\u001B[0m\u001B[0;34m\u001B[0m\u001B[0;34m\u001B[0m\u001B[0m\n",
      "\u001B[0;31mFileExistsError\u001B[0m: "
     ]
    }
   ],
   "source": [
    "get_hv_from_mvars(\"gmm3_08\")"
   ],
   "metadata": {
    "collapsed": false,
    "pycharm": {
     "name": "#%%\n"
    }
   }
  },
  {
   "cell_type": "code",
   "execution_count": 7,
   "outputs": [
    {
     "name": "stdout",
     "output_type": "stream",
     "text": [
      "torch.Size([17869, 2])\n",
      "torch.Size([18842, 2])\n"
     ]
    }
   ],
   "source": [
    "save_all_X(\"gmm_4obj_08\", \"gmm_4obj_08_Xs\")\n",
    "save_all_X(\"gmm_4obj\", \"gmm_4obj_Xs\")"
   ],
   "metadata": {
    "collapsed": false,
    "pycharm": {
     "name": "#%%\n"
    }
   }
  },
  {
   "cell_type": "code",
   "execution_count": 8,
   "outputs": [
    {
     "name": "stdout",
     "output_type": "stream",
     "text": [
      "Reading gmm_4obj_mvar_9_nd.pt, found torch.Size([430, 4]). Time 0.03257918357849121.\n",
      "Reading gmm_4obj_mvar_18_nd.pt, found torch.Size([208, 4]). Time 0.03503584861755371.\n",
      "Reading gmm_4obj_mvar_8_nd.pt, found torch.Size([520, 4]). Time 0.035962820053100586.\n",
      "Reading gmm_4obj_mvar_17_nd.pt, found torch.Size([3623, 4]). Time 0.03745388984680176.\n",
      "Reading gmm_4obj_mvar_2_nd.pt, found torch.Size([7256, 4]). Time 0.03932499885559082.\n",
      "Reading gmm_4obj_mvar_0_nd.pt, found torch.Size([655, 4]). Time 0.04023408889770508.\n",
      "Reading gmm_4obj_mvar_15_nd.pt, found torch.Size([3124, 4]). Time 0.04094195365905762.\n",
      "Reading gmm_4obj_mvar_11_nd.pt, found torch.Size([16452, 4]). Time 0.04370689392089844.\n",
      "Reading gmm_4obj_mvar_4_nd.pt, found torch.Size([7891, 4]). Time 0.04532885551452637.\n",
      "Reading gmm_4obj_mvar_6_nd.pt, found torch.Size([3122, 4]). Time 0.046449899673461914.\n",
      "Reading gmm_4obj_mvar_13_nd.pt, found torch.Size([2062, 4]). Time 0.048036813735961914.\n",
      "Reading gmm_4obj_mvar_1_nd.pt, found torch.Size([3183, 4]). Time 0.049156904220581055.\n",
      "Reading gmm_4obj_mvar_14_nd.pt, found torch.Size([2088, 4]). Time 0.05063796043395996.\n",
      "Reading gmm_4obj_mvar_16_nd.pt, found torch.Size([8481, 4]). Time 0.05302309989929199.\n",
      "Reading gmm_4obj_mvar_3_nd.pt, found torch.Size([9814, 4]). Time 0.05498814582824707.\n",
      "Reading gmm_4obj_mvar_7_nd.pt, found torch.Size([1376, 4]). Time 0.05664682388305664.\n",
      "Reading gmm_4obj_mvar_12_nd.pt, found torch.Size([16964, 4]). Time 0.062367916107177734.\n",
      "Reading gmm_4obj_mvar_10_nd.pt, found torch.Size([7144, 4]). Time 0.06369376182556152.\n",
      "Reading gmm_4obj_mvar_5_nd.pt, found torch.Size([4825, 4]). Time 0.06445598602294922.\n",
      "MVaRs found: torch.Size([19341, 4]).\n"
     ]
    }
   ],
   "source": [
    "merge_mvars(\"gmm_4obj\", \"gmm_4obj_all_mvars\")"
   ],
   "metadata": {
    "collapsed": false,
    "pycharm": {
     "name": "#%%\n"
    }
   }
  },
  {
   "cell_type": "code",
   "execution_count": 9,
   "outputs": [
    {
     "name": "stdout",
     "output_type": "stream",
     "text": [
      "Reading gmm_4obj_08_mvar_11_nd.pt, found torch.Size([42722, 4]). Time 0.002610921859741211.\n",
      "Reading gmm_4obj_08_mvar_6_nd.pt, found torch.Size([1583, 4]). Time 0.0038068294525146484.\n",
      "Reading gmm_4obj_08_mvar_4_nd.pt, found torch.Size([22083, 4]). Time 0.004782676696777344.\n",
      "Reading gmm_4obj_08_mvar_13_nd.pt, found torch.Size([4031, 4]). Time 0.005365848541259766.\n",
      "Reading gmm_4obj_08_mvar_0_nd.pt, found torch.Size([1623, 4]). Time 0.0061528682708740234.\n",
      "Reading gmm_4obj_08_mvar_17_nd.pt, found torch.Size([513, 4]). Time 0.006566762924194336.\n",
      "Reading gmm_4obj_08_mvar_15_nd.pt, found torch.Size([18942, 4]). Time 0.00739598274230957.\n",
      "Reading gmm_4obj_08_mvar_2_nd.pt, found torch.Size([19829, 4]). Time 0.009721755981445312.\n",
      "Reading gmm_4obj_08_mvar_12_nd.pt, found torch.Size([4026, 4]). Time 0.010734796524047852.\n",
      "Reading gmm_4obj_08_mvar_5_nd.pt, found torch.Size([5883, 4]). Time 0.012180805206298828.\n",
      "Reading gmm_4obj_08_mvar_7_nd.pt, found torch.Size([235, 4]). Time 0.012455940246582031.\n",
      "Reading gmm_4obj_08_mvar_10_nd.pt, found torch.Size([54249, 4]). Time 0.02028369903564453.\n",
      "Reading gmm_4obj_08_mvar_3_nd.pt, found torch.Size([23834, 4]). Time 0.0245969295501709.\n",
      "Reading gmm_4obj_08_mvar_14_nd.pt, found torch.Size([9206, 4]). Time 0.02565288543701172.\n",
      "Reading gmm_4obj_08_mvar_16_nd.pt, found torch.Size([12551, 4]). Time 0.026877880096435547.\n",
      "Reading gmm_4obj_08_mvar_1_nd.pt, found torch.Size([8868, 4]). Time 0.029118776321411133.\n",
      "Reading gmm_4obj_08_mvar_9_nd.pt, found torch.Size([40840, 4]). Time 0.037361860275268555.\n",
      "Reading gmm_4obj_08_mvar_8_nd.pt, found torch.Size([6350, 4]). Time 0.0379939079284668.\n",
      "MVaRs found: torch.Size([44566, 4]).\n"
     ]
    }
   ],
   "source": [
    "merge_mvars(\"gmm_4obj_08\", \"gmm_4obj_08_all_mvars\")"
   ],
   "metadata": {
    "collapsed": false,
    "pycharm": {
     "name": "#%%\n"
    }
   }
  },
  {
   "cell_type": "code",
   "execution_count": 10,
   "outputs": [
    {
     "name": "stdout",
     "output_type": "stream",
     "text": [
      "MVaRs found: torch.Size([19341, 4]).\n"
     ]
    }
   ],
   "source": [
    "get_hv_from_mvars(\"gmm_4obj\")"
   ],
   "metadata": {
    "collapsed": false,
    "pycharm": {
     "name": "#%%\n"
    }
   }
  },
  {
   "cell_type": "code",
   "execution_count": 11,
   "outputs": [
    {
     "name": "stdout",
     "output_type": "stream",
     "text": [
      "MVaRs found: torch.Size([44566, 4]).\n"
     ]
    }
   ],
   "source": [
    "get_hv_from_mvars(\"gmm_4obj_08\")"
   ],
   "metadata": {
    "collapsed": false,
    "pycharm": {
     "name": "#%%\n"
    }
   }
  },
  {
   "cell_type": "markdown",
   "source": [
    "## Plot the MVaR PF for disc brake"
   ],
   "metadata": {
    "collapsed": false,
    "pycharm": {
     "name": "#%% md\n"
    }
   }
  },
  {
   "cell_type": "code",
   "execution_count": 19,
   "outputs": [
    {
     "data": {
      "text/plain": "<Figure size 500x400 with 1 Axes>",
      "image/png": "[encoded data removed]"
     },
     "metadata": {},
     "output_type": "display_data"
    }
   ],
   "source": [
    "import matplotlib.pyplot as plt\n",
    "from matplotlib import rc\n",
    "import matplotlib\n",
    "\n",
    "rc('font', family='serif', style='normal', variant='normal', weight='normal', stretch='normal', size=8)\n",
    "matplotlib.rcParams['ps.useafm'] = True\n",
    "matplotlib.rcParams['pdf.use14corefonts'] = True\n",
    "matplotlib.rcParams['text.usetex'] = True\n",
    "matplotlib.rcParams['xtick.labelsize'] = 8\n",
    "matplotlib.rcParams['ytick.labelsize'] = 8\n",
    "matplotlib.rcParams['axes.titlesize'] = 10\n",
    "matplotlib.style.use('default')\n",
    "\n",
    "fig, ax = plt.subplots(1, figsize=(5, 4))\n",
    "all_mvars = torch.load(os.path.join(max_hv_dir, \"disc_brake_all_mvars.pt\"))\n",
    "ax.scatter(all_mvars[:, 0], all_mvars[:, 1])\n",
    "ax.set_title(\"Disc Brake MVaR PF\")\n",
    "fig.tight_layout()\n"
   ],
   "metadata": {
    "collapsed": false,
    "pycharm": {
     "name": "#%%\n"
    }
   }
  },
  {
   "cell_type": "code",
   "execution_count": 20,
   "outputs": [
    {
     "data": {
      "text/plain": "<Figure size 500x400 with 1 Axes>",
      "image/png": "[encoded data removed]"
     },
     "metadata": {},
     "output_type": "display_data"
    }
   ],
   "source": [
    "fig, ax = plt.subplots(1, figsize=(5, 4))\n",
    "all_mvars = torch.load(os.path.join(max_hv_dir, \"bc_all_mvars.pt\"))\n",
    "ax.scatter(all_mvars[:, 0], all_mvars[:, 1])\n",
    "ax.set_title(\"Constrained BC MVaR PF\")\n",
    "fig.tight_layout()"
   ],
   "metadata": {
    "collapsed": false,
    "pycharm": {
     "name": "#%%\n"
    }
   }
  },
  {
   "cell_type": "markdown",
   "source": [
    "Some timing tests"
   ],
   "metadata": {
    "collapsed": false,
    "pycharm": {
     "name": "#%% md\n"
    }
   }
  },
  {
   "cell_type": "code",
   "execution_count": null,
   "outputs": [],
   "source": [
    "problem = \"1d_toy\"\n",
    "config_path = os.path.join(exp_dir, problem, \"config.json\")\n",
    "with open(config_path, \"r\") as f:\n",
    "    config = json.load(f)\n",
    "config.pop(\"device\")\n",
    "mvar_hv = construct_mvar_hv(**config)\n",
    "\n",
    "%time mvar_hv(torch.rand(1000, 1, dtype=torch.double))"
   ],
   "metadata": {
    "collapsed": false,
    "pycharm": {
     "name": "#%%\n"
    }
   }
  },
  {
   "cell_type": "code",
   "execution_count": null,
   "outputs": [],
   "source": [
    "problem = \"penicillin\"\n",
    "config_path = os.path.join(exp_dir, problem, \"config.json\")\n",
    "with open(config_path, \"r\") as f:\n",
    "    config = json.load(f)\n",
    "config.pop(\"device\")\n",
    "mvar_hv = construct_mvar_hv(**config)\n",
    "\n",
    "%time mvar_hv(torch.rand(1000, 7, dtype=torch.double))"
   ],
   "metadata": {
    "collapsed": false,
    "pycharm": {
     "name": "#%%\n"
    }
   }
  }
 ],
 "metadata": {
  "kernelspec": {
   "display_name": "Python 3",
   "language": "python",
   "name": "python3"
  },
  "language_info": {
   "codemirror_mode": {
    "name": "ipython",
    "version": 2
   },
   "file_extension": ".py",
   "mimetype": "text/x-python",
   "name": "python",
   "nbconvert_exporter": "python",
   "pygments_lexer": "ipython2",
   "version": "2.7.6"
  }
 },
 "nbformat": 4,
 "nbformat_minor": 0
}