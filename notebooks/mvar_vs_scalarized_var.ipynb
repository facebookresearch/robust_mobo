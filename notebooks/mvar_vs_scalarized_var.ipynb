{
 "cells": [
  {
   "cell_type": "markdown",
   "metadata": {
    "collapsed": true,
    "pycharm": {
     "name": "#%% md\n"
    }
   },
   "source": [
    "## This notebook is to empirically verify that the point obtaining the VaR of Chebyshev\n",
    " scalarization is a point from the MVaR set.\n",
    "\n",
    "The result holds up. Just need to define both VaR and MVaR for maximization."
   ]
  },
  {
   "cell_type": "code",
   "execution_count": 1,
   "outputs": [
    {
     "data": {
      "text/plain": "<matplotlib.collections.PathCollection at 0x1755509d0>"
     },
     "execution_count": 1,
     "metadata": {},
     "output_type": "execute_result"
    },
    {
     "data": {
      "text/plain": "<Figure size 432x288 with 1 Axes>",
      "image/png": "[encoded data removed]"
     },
     "metadata": {
      "needs_background": "light"
     },
     "output_type": "display_data"
    }
   ],
   "source": [
    "import torch\n",
    "from botorch.acquisition.multi_objective.multi_output_risk_measures import MVaR\n",
    "import matplotlib.pyplot as plt\n",
    "\n",
    "n_w, alpha = 400, 0.8\n",
    "Y = torch.rand(n_w, 2)\n",
    "mvar = MVaR(n_w=n_w, alpha=alpha)\n",
    "mvar_set = mvar(Y)\n",
    "\n",
    "w_raw = torch.rand(2)\n",
    "w = w_raw / w_raw.sum()\n",
    "scalarized_Y = (Y * w).min(dim=-1).values\n",
    "sorted_Y, idx = scalarized_Y.sort(dim=-1)\n",
    "scalarized_var_Y = sorted_Y[int(n_w * (1-alpha))]\n",
    "unscalarized_var = scalarized_var_Y / w\n",
    "\n",
    "plt.scatter(Y[:, 0], Y[:, 1], color=\"black\")\n",
    "plt.scatter(mvar_set[:, 0], mvar_set[:, 1], color=\"r\")\n",
    "\n",
    "plt.scatter(unscalarized_var[0], unscalarized_var[1], color=\"blue\", s=200, alpha=0.5)\n"
   ],
   "metadata": {
    "collapsed": false,
    "pycharm": {
     "name": "#%%\n"
    }
   }
  },
  {
   "cell_type": "markdown",
   "source": [
    "## Let's see if we can find a connection between derivatives."
   ],
   "metadata": {
    "collapsed": false,
    "pycharm": {
     "name": "#%% md\n"
    }
   }
  },
  {
   "cell_type": "code",
   "execution_count": 2,
   "outputs": [],
   "source": [
    "from torch import Tensor\n",
    "from robust_mobo.multi_objective_risk_measures import DiffMVaR\n",
    "\n",
    "\n",
    "def simple_scalarization(Y: Tensor, w: Tensor) -> Tensor:\n",
    "    r\"\"\"Returns Chebyshev scalarization without any normalization.\n",
    "\n",
    "    Args:\n",
    "        Y: `batch x m`-dim tensor of outcomes.\n",
    "        w: `m`-dim tensor of weights.\n",
    "\n",
    "    Returns:\n",
    "        `batch x 1`-dim tensor of min_i w_i Y_i.\n",
    "    \"\"\"\n",
    "    return torch.min(Y * w, dim=-1, keepdim=True).values\n",
    "\n",
    "\n",
    "n_w = 10\n",
    "alpha = 0.5\n",
    "Y = torch.rand(n_w, 2)\n",
    "mvar_call = DiffMVaR(n_w, alpha)\n",
    "mvar_set = mvar_call(Y)"
   ],
   "metadata": {
    "collapsed": false,
    "pycharm": {
     "name": "#%%\n"
    }
   }
  },
  {
   "cell_type": "code",
   "execution_count": 3,
   "outputs": [
    {
     "data": {
      "text/plain": "tensor([[0.4157, 0.1549],\n        [0.4070, 0.1837],\n        [0.3335, 0.1876],\n        [0.1834, 0.5477]])"
     },
     "execution_count": 3,
     "metadata": {},
     "output_type": "execute_result"
    }
   ],
   "source": [
    "mvar_set"
   ],
   "metadata": {
    "collapsed": false,
    "pycharm": {
     "name": "#%%\n"
    }
   }
  },
  {
   "cell_type": "code",
   "execution_count": 4,
   "outputs": [],
   "source": [
    "mvar_0 = mvar_set[0]"
   ],
   "metadata": {
    "collapsed": false,
    "pycharm": {
     "name": "#%%\n"
    }
   }
  },
  {
   "cell_type": "code",
   "execution_count": 5,
   "outputs": [
    {
     "data": {
      "text/plain": "tensor([0.2715, 0.7285])"
     },
     "execution_count": 5,
     "metadata": {},
     "output_type": "execute_result"
    }
   ],
   "source": [
    "w = 1 / mvar_0\n",
    "w = w / w.sum()\n",
    "w"
   ],
   "metadata": {
    "collapsed": false,
    "pycharm": {
     "name": "#%%\n"
    }
   }
  },
  {
   "cell_type": "code",
   "execution_count": 6,
   "outputs": [
    {
     "data": {
      "text/plain": "(tensor([0.1128]), tensor([0.4157, 0.1549]))"
     },
     "execution_count": 6,
     "metadata": {},
     "output_type": "execute_result"
    }
   ],
   "source": [
    "from botorch.acquisition.risk_measures import VaR\n",
    "\n",
    "scalarized_Y = simple_scalarization(Y, w)\n",
    "var_call = VaR(n_w=n_w, alpha=alpha)\n",
    "scalarized_var = var_call(scalarized_Y)\n",
    "scalarized_var, scalarized_var / w"
   ],
   "metadata": {
    "collapsed": false,
    "pycharm": {
     "name": "#%%\n"
    }
   }
  },
  {
   "cell_type": "code",
   "execution_count": 7,
   "outputs": [],
   "source": [
    "from botorch.test_functions import Branin\n",
    "base_func = Branin()\n",
    "\n",
    "def eval_func(X: Tensor) -> Tensor:\n",
    "    X_p = X + 0.5\n",
    "    return torch.stack([base_func(X), base_func(X_p)], dim=-1)\n",
    "\n",
    "X = torch.rand(n_w, 2, requires_grad=True)"
   ],
   "metadata": {
    "collapsed": false,
    "pycharm": {
     "name": "#%%\n"
    }
   }
  },
  {
   "cell_type": "code",
   "execution_count": 8,
   "outputs": [
    {
     "data": {
      "text/plain": "tensor([[  0.0000,   0.0000],\n        [  0.0000,   0.0000],\n        [  0.0000,   0.0000],\n        [  0.0000,   0.0000],\n        [  0.0000,   0.0000],\n        [  0.0000,   0.0000],\n        [  0.0000,   0.0000],\n        [  0.0000,   0.0000],\n        [-37.3675, -16.4575],\n        [  0.0000,   0.0000]])"
     },
     "execution_count": 8,
     "metadata": {},
     "output_type": "execute_result"
    }
   ],
   "source": [
    "Y = eval_func(X.clone())\n",
    "mvar_set = mvar_call(Y)\n",
    "mvar_0 = mvar_set[0]\n",
    "\n",
    "mvar_grad = torch.autograd.grad(mvar_0.sum(), X)[0]\n",
    "mvar_grad"
   ],
   "metadata": {
    "collapsed": false,
    "pycharm": {
     "name": "#%%\n"
    }
   }
  },
  {
   "cell_type": "code",
   "execution_count": 9,
   "outputs": [
    {
     "data": {
      "text/plain": "(tensor([[  0.0000,   0.0000],\n         [  0.0000,   0.0000],\n         [  0.0000,   0.0000],\n         [  0.0000,   0.0000],\n         [  0.0000,   0.0000],\n         [  0.0000,   0.0000],\n         [  0.0000,   0.0000],\n         [  0.0000,   0.0000],\n         [-37.3675, -16.4575],\n         [  0.0000,   0.0000]]),\n tensor([[  0.0000,   0.0000],\n         [  0.0000,   0.0000],\n         [  0.0000,   0.0000],\n         [  0.0000,   0.0000],\n         [  0.0000,   0.0000],\n         [  0.0000,   0.0000],\n         [  0.0000,   0.0000],\n         [  0.0000,   0.0000],\n         [-37.3675, -16.4575],\n         [  0.0000,   0.0000]]))"
     },
     "execution_count": 9,
     "metadata": {},
     "output_type": "execute_result"
    }
   ],
   "source": [
    "Y = eval_func(X.clone())\n",
    "mvar_set = mvar_call(Y)\n",
    "mvar_0 = mvar_set[0]\n",
    "w = 1 / mvar_0\n",
    "w = w / w.sum()\n",
    "w.detach()\n",
    "scalarized_Y = simple_scalarization(Y, w)\n",
    "scalarized_var = var_call(scalarized_Y)\n",
    "\n",
    "scalarized_grad = torch.autograd.grad((scalarized_var / w).sum(), X)[0]\n",
    "mvar_grad, scalarized_grad"
   ],
   "metadata": {
    "collapsed": false,
    "pycharm": {
     "name": "#%%\n"
    }
   }
  }
 ],
 "metadata": {
  "kernelspec": {
   "display_name": "Python 3",
   "language": "python",
   "name": "python3"
  },
  "language_info": {
   "codemirror_mode": {
    "name": "ipython",
    "version": 2
   },
   "file_extension": ".py",
   "mimetype": "text/x-python",
   "name": "python",
   "nbconvert_exporter": "python",
   "pygments_lexer": "ipython2",
   "version": "2.7.6"
  }
 },
 "nbformat": 4,
 "nbformat_minor": 0
}